{
 "cells": [
  {
   "cell_type": "markdown",
   "metadata": {
    "_cell_guid": "83c467f2-3fc7-4aa5-ba85-c50763630376",
    "_uuid": "4acb1896eaffc176e53cf4e16350b96a503e8b10"
   },
   "source": [
    "## Setup"
   ]
  },
  {
   "cell_type": "code",
   "execution_count": 1,
   "metadata": {
    "_cell_guid": "0a883ac9-5b27-4a12-9c53-fac5669647fe",
    "_uuid": "82041574cced9a4277e0f911db5b86fb5a335374"
   },
   "outputs": [],
   "source": [
    "import pandas as pd\n",
    "import numpy as np\n",
    "import matplotlib.pyplot as plt\n",
    "import seaborn as sns\n",
    "import warnings\n",
    "from IPython.display import display, Markdown\n",
    "\n",
    "from sklearn.feature_selection import SelectKBest, chi2, mutual_info_classif\n",
    "from sklearn.preprocessing import MinMaxScaler\n",
    "from sklearn.decomposition import PCA\n",
    "from sklearn.ensemble import GradientBoostingClassifier, RandomForestClassifier, RandomForestRegressor\n",
    "from sklearn.model_selection import cross_val_score, GridSearchCV\n",
    "from sklearn.metrics import classification_report, confusion_matrix\n",
    "\n",
    "%matplotlib inline\n",
    "%config IPCompleter.greedy=True\n",
    "warnings.filterwarnings('ignore')\n",
    "sns.set()"
   ]
  },
  {
   "cell_type": "markdown",
   "metadata": {},
   "source": [
    "### Descargar datos de \n",
    "https://www.kaggle.com/uciml/aps-failure-at-scania-trucks-data-set/data"
   ]
  },
  {
   "cell_type": "markdown",
   "metadata": {
    "_cell_guid": "720b43ac-255a-43d4-ab48-64f6672eead6",
    "_uuid": "c7da0085f21e7e5f84f186f6c0477d7bc124cb45"
   },
   "source": [
    "### Funciones de utilidad\n"
   ]
  },
  {
   "cell_type": "code",
   "execution_count": 2,
   "metadata": {
    "_cell_guid": "c886a7cc-f168-449e-8bb6-d78f6f9041fb",
    "_uuid": "ad165cded227806fe7578f2f851696040a5445c5"
   },
   "outputs": [],
   "source": [
    "# Plotea histograma de datos\n",
    "# función tomada de https://www.kaggle.com/romulomadu/minimizing-total-cost-result-9020-00\n",
    "def bar(acumm_data):\n",
    "    # Do plot\n",
    "    fig = plt.figure(figsize=(10,7))\n",
    "    ax = fig.add_subplot(111)\n",
    "    ax = sns.barplot(x=acumm_data.index, y=acumm_data.values, palette='tab20b', ax=ax)\n",
    "    ax.set_xticklabels(ax.get_xticklabels(), rotation=90)    \n",
    "    return ax\n",
    "\n",
    "#Plotea la matriz de confución\n",
    "def print_binary_confusion_matrix(matrix):    \n",
    "    TN = matrix[0,0]\n",
    "    FN = matrix[1,0]\n",
    "    FP = matrix[0,1]\n",
    "    TP = matrix[1,1]\n",
    "\n",
    "    print ('              +-----------------+')\n",
    "    print ('              |   Predicción    |')\n",
    "    print ('              +-----------------+')\n",
    "    print ('              |    +   |    -   |')\n",
    "    print ('+-------+-----+--------+--------+')\n",
    "    print ('| Valor |  +  |  {:5d} |  {:5d} |'.format(TP, FN) )\n",
    "    print ('| real  +-----+--------+--------+')\n",
    "    print ('|       |  -  |  {:5d} |  {:5d} |'.format(FP, TN) )\n",
    "    print ('+-------+-----+--------+--------+')"
   ]
  },
  {
   "cell_type": "markdown",
   "metadata": {
    "_cell_guid": "25c3bbcc-1bb3-451d-88b2-a788c9620dd1",
    "_uuid": "0820ca2be7fb0c46ca460b9ec7832c6d2e7e4f02"
   },
   "source": [
    "## Lectura de datos "
   ]
  },
  {
   "cell_type": "code",
   "execution_count": 3,
   "metadata": {
    "_cell_guid": "68730eee-06af-42da-8f04-c0617f972aea",
    "_uuid": "89c8b03dffaa7d1be9be6402145d9c8970faf237"
   },
   "outputs": [],
   "source": [
    "#lectura de datos\n",
    "train_features_raw = pd.read_csv('aps_failure_training_set.csv', na_values='na')\n",
    "test_features_raw =  pd.read_csv('aps_failure_test_set.csv', na_values='na')\n",
    "\n",
    "#selecciona solo la variable a predecir\n",
    "train_labels = train_features_raw['class']\n",
    "test_labels = test_features_raw['class']\n",
    "\n",
    "#selecciona solo las variables independientes\n",
    "train_features = train_features_raw.drop('class', axis=1)\n",
    "test_features = test_features_raw.drop('class', axis=1)"
   ]
  },
  {
   "cell_type": "markdown",
   "metadata": {
    "_cell_guid": "bde7de1d-c8ac-46ff-9ba8-489c542dea0a",
    "_uuid": "36a154d8fa4cf76107a387b8886f5d49c185caa8"
   },
   "source": [
    "## Análisis exploratorio de datos "
   ]
  },
  {
   "cell_type": "code",
   "execution_count": 4,
   "metadata": {
    "_cell_guid": "931cb280-82d4-44f7-aea5-5e732ca7c89e",
    "_uuid": "b7e20f7aaa6ca7307669071e84015ba728b364ac",
    "scrolled": false
   },
   "outputs": [
    {
     "data": {
      "text/plain": [
       "neg    59000\n",
       "pos     1000\n",
       "Name: class, dtype: int64"
      ]
     },
     "execution_count": 4,
     "metadata": {},
     "output_type": "execute_result"
    }
   ],
   "source": [
    "train_features_raw['class'].value_counts()"
   ]
  },
  {
   "cell_type": "code",
   "execution_count": 5,
   "metadata": {},
   "outputs": [
    {
     "data": {
      "text/html": [
       "<div>\n",
       "<style scoped>\n",
       "    .dataframe tbody tr th:only-of-type {\n",
       "        vertical-align: middle;\n",
       "    }\n",
       "\n",
       "    .dataframe tbody tr th {\n",
       "        vertical-align: top;\n",
       "    }\n",
       "\n",
       "    .dataframe thead th {\n",
       "        text-align: right;\n",
       "    }\n",
       "</style>\n",
       "<table border=\"1\" class=\"dataframe\">\n",
       "  <thead>\n",
       "    <tr style=\"text-align: right;\">\n",
       "      <th></th>\n",
       "      <th>class</th>\n",
       "      <th>aa_000</th>\n",
       "      <th>ab_000</th>\n",
       "      <th>ac_000</th>\n",
       "      <th>ad_000</th>\n",
       "      <th>ae_000</th>\n",
       "      <th>af_000</th>\n",
       "      <th>ag_000</th>\n",
       "      <th>ag_001</th>\n",
       "      <th>ag_002</th>\n",
       "      <th>...</th>\n",
       "      <th>ee_002</th>\n",
       "      <th>ee_003</th>\n",
       "      <th>ee_004</th>\n",
       "      <th>ee_005</th>\n",
       "      <th>ee_006</th>\n",
       "      <th>ee_007</th>\n",
       "      <th>ee_008</th>\n",
       "      <th>ee_009</th>\n",
       "      <th>ef_000</th>\n",
       "      <th>eg_000</th>\n",
       "    </tr>\n",
       "  </thead>\n",
       "  <tbody>\n",
       "    <tr>\n",
       "      <th>0</th>\n",
       "      <td>neg</td>\n",
       "      <td>76698</td>\n",
       "      <td>NaN</td>\n",
       "      <td>2.130706e+09</td>\n",
       "      <td>280.0</td>\n",
       "      <td>0.0</td>\n",
       "      <td>0.0</td>\n",
       "      <td>0.0</td>\n",
       "      <td>0.0</td>\n",
       "      <td>0.0</td>\n",
       "      <td>...</td>\n",
       "      <td>1240520.0</td>\n",
       "      <td>493384.0</td>\n",
       "      <td>721044.0</td>\n",
       "      <td>469792.0</td>\n",
       "      <td>339156.0</td>\n",
       "      <td>157956.0</td>\n",
       "      <td>73224.0</td>\n",
       "      <td>0.0</td>\n",
       "      <td>0.0</td>\n",
       "      <td>0.0</td>\n",
       "    </tr>\n",
       "    <tr>\n",
       "      <th>1</th>\n",
       "      <td>neg</td>\n",
       "      <td>33058</td>\n",
       "      <td>NaN</td>\n",
       "      <td>0.000000e+00</td>\n",
       "      <td>NaN</td>\n",
       "      <td>0.0</td>\n",
       "      <td>0.0</td>\n",
       "      <td>0.0</td>\n",
       "      <td>0.0</td>\n",
       "      <td>0.0</td>\n",
       "      <td>...</td>\n",
       "      <td>421400.0</td>\n",
       "      <td>178064.0</td>\n",
       "      <td>293306.0</td>\n",
       "      <td>245416.0</td>\n",
       "      <td>133654.0</td>\n",
       "      <td>81140.0</td>\n",
       "      <td>97576.0</td>\n",
       "      <td>1500.0</td>\n",
       "      <td>0.0</td>\n",
       "      <td>0.0</td>\n",
       "    </tr>\n",
       "    <tr>\n",
       "      <th>2</th>\n",
       "      <td>neg</td>\n",
       "      <td>41040</td>\n",
       "      <td>NaN</td>\n",
       "      <td>2.280000e+02</td>\n",
       "      <td>100.0</td>\n",
       "      <td>0.0</td>\n",
       "      <td>0.0</td>\n",
       "      <td>0.0</td>\n",
       "      <td>0.0</td>\n",
       "      <td>0.0</td>\n",
       "      <td>...</td>\n",
       "      <td>277378.0</td>\n",
       "      <td>159812.0</td>\n",
       "      <td>423992.0</td>\n",
       "      <td>409564.0</td>\n",
       "      <td>320746.0</td>\n",
       "      <td>158022.0</td>\n",
       "      <td>95128.0</td>\n",
       "      <td>514.0</td>\n",
       "      <td>0.0</td>\n",
       "      <td>0.0</td>\n",
       "    </tr>\n",
       "    <tr>\n",
       "      <th>3</th>\n",
       "      <td>neg</td>\n",
       "      <td>12</td>\n",
       "      <td>0.0</td>\n",
       "      <td>7.000000e+01</td>\n",
       "      <td>66.0</td>\n",
       "      <td>0.0</td>\n",
       "      <td>10.0</td>\n",
       "      <td>0.0</td>\n",
       "      <td>0.0</td>\n",
       "      <td>0.0</td>\n",
       "      <td>...</td>\n",
       "      <td>240.0</td>\n",
       "      <td>46.0</td>\n",
       "      <td>58.0</td>\n",
       "      <td>44.0</td>\n",
       "      <td>10.0</td>\n",
       "      <td>0.0</td>\n",
       "      <td>0.0</td>\n",
       "      <td>0.0</td>\n",
       "      <td>4.0</td>\n",
       "      <td>32.0</td>\n",
       "    </tr>\n",
       "    <tr>\n",
       "      <th>4</th>\n",
       "      <td>neg</td>\n",
       "      <td>60874</td>\n",
       "      <td>NaN</td>\n",
       "      <td>1.368000e+03</td>\n",
       "      <td>458.0</td>\n",
       "      <td>0.0</td>\n",
       "      <td>0.0</td>\n",
       "      <td>0.0</td>\n",
       "      <td>0.0</td>\n",
       "      <td>0.0</td>\n",
       "      <td>...</td>\n",
       "      <td>622012.0</td>\n",
       "      <td>229790.0</td>\n",
       "      <td>405298.0</td>\n",
       "      <td>347188.0</td>\n",
       "      <td>286954.0</td>\n",
       "      <td>311560.0</td>\n",
       "      <td>433954.0</td>\n",
       "      <td>1218.0</td>\n",
       "      <td>0.0</td>\n",
       "      <td>0.0</td>\n",
       "    </tr>\n",
       "    <tr>\n",
       "      <th>5</th>\n",
       "      <td>neg</td>\n",
       "      <td>38312</td>\n",
       "      <td>NaN</td>\n",
       "      <td>2.130706e+09</td>\n",
       "      <td>218.0</td>\n",
       "      <td>0.0</td>\n",
       "      <td>0.0</td>\n",
       "      <td>0.0</td>\n",
       "      <td>0.0</td>\n",
       "      <td>0.0</td>\n",
       "      <td>...</td>\n",
       "      <td>388574.0</td>\n",
       "      <td>288278.0</td>\n",
       "      <td>900430.0</td>\n",
       "      <td>300412.0</td>\n",
       "      <td>1534.0</td>\n",
       "      <td>338.0</td>\n",
       "      <td>856.0</td>\n",
       "      <td>0.0</td>\n",
       "      <td>0.0</td>\n",
       "      <td>0.0</td>\n",
       "    </tr>\n",
       "    <tr>\n",
       "      <th>6</th>\n",
       "      <td>neg</td>\n",
       "      <td>14</td>\n",
       "      <td>0.0</td>\n",
       "      <td>6.000000e+00</td>\n",
       "      <td>NaN</td>\n",
       "      <td>0.0</td>\n",
       "      <td>0.0</td>\n",
       "      <td>0.0</td>\n",
       "      <td>0.0</td>\n",
       "      <td>0.0</td>\n",
       "      <td>...</td>\n",
       "      <td>168.0</td>\n",
       "      <td>48.0</td>\n",
       "      <td>60.0</td>\n",
       "      <td>28.0</td>\n",
       "      <td>0.0</td>\n",
       "      <td>0.0</td>\n",
       "      <td>0.0</td>\n",
       "      <td>0.0</td>\n",
       "      <td>0.0</td>\n",
       "      <td>0.0</td>\n",
       "    </tr>\n",
       "    <tr>\n",
       "      <th>7</th>\n",
       "      <td>neg</td>\n",
       "      <td>102960</td>\n",
       "      <td>NaN</td>\n",
       "      <td>2.130706e+09</td>\n",
       "      <td>116.0</td>\n",
       "      <td>0.0</td>\n",
       "      <td>0.0</td>\n",
       "      <td>0.0</td>\n",
       "      <td>0.0</td>\n",
       "      <td>0.0</td>\n",
       "      <td>...</td>\n",
       "      <td>715518.0</td>\n",
       "      <td>384948.0</td>\n",
       "      <td>915978.0</td>\n",
       "      <td>1052166.0</td>\n",
       "      <td>1108672.0</td>\n",
       "      <td>341532.0</td>\n",
       "      <td>129504.0</td>\n",
       "      <td>7832.0</td>\n",
       "      <td>0.0</td>\n",
       "      <td>0.0</td>\n",
       "    </tr>\n",
       "    <tr>\n",
       "      <th>8</th>\n",
       "      <td>neg</td>\n",
       "      <td>78696</td>\n",
       "      <td>NaN</td>\n",
       "      <td>0.000000e+00</td>\n",
       "      <td>NaN</td>\n",
       "      <td>0.0</td>\n",
       "      <td>0.0</td>\n",
       "      <td>0.0</td>\n",
       "      <td>0.0</td>\n",
       "      <td>0.0</td>\n",
       "      <td>...</td>\n",
       "      <td>699290.0</td>\n",
       "      <td>362510.0</td>\n",
       "      <td>1190028.0</td>\n",
       "      <td>1012704.0</td>\n",
       "      <td>160090.0</td>\n",
       "      <td>63216.0</td>\n",
       "      <td>41202.0</td>\n",
       "      <td>4.0</td>\n",
       "      <td>0.0</td>\n",
       "      <td>0.0</td>\n",
       "    </tr>\n",
       "    <tr>\n",
       "      <th>9</th>\n",
       "      <td>pos</td>\n",
       "      <td>153204</td>\n",
       "      <td>0.0</td>\n",
       "      <td>1.820000e+02</td>\n",
       "      <td>NaN</td>\n",
       "      <td>0.0</td>\n",
       "      <td>0.0</td>\n",
       "      <td>0.0</td>\n",
       "      <td>0.0</td>\n",
       "      <td>0.0</td>\n",
       "      <td>...</td>\n",
       "      <td>129862.0</td>\n",
       "      <td>26872.0</td>\n",
       "      <td>34044.0</td>\n",
       "      <td>22472.0</td>\n",
       "      <td>34362.0</td>\n",
       "      <td>0.0</td>\n",
       "      <td>0.0</td>\n",
       "      <td>0.0</td>\n",
       "      <td>0.0</td>\n",
       "      <td>0.0</td>\n",
       "    </tr>\n",
       "  </tbody>\n",
       "</table>\n",
       "<p>10 rows × 171 columns</p>\n",
       "</div>"
      ],
      "text/plain": [
       "  class  aa_000  ab_000        ac_000  ad_000  ae_000  af_000  ag_000  ag_001  \\\n",
       "0   neg   76698     NaN  2.130706e+09   280.0     0.0     0.0     0.0     0.0   \n",
       "1   neg   33058     NaN  0.000000e+00     NaN     0.0     0.0     0.0     0.0   \n",
       "2   neg   41040     NaN  2.280000e+02   100.0     0.0     0.0     0.0     0.0   \n",
       "3   neg      12     0.0  7.000000e+01    66.0     0.0    10.0     0.0     0.0   \n",
       "4   neg   60874     NaN  1.368000e+03   458.0     0.0     0.0     0.0     0.0   \n",
       "5   neg   38312     NaN  2.130706e+09   218.0     0.0     0.0     0.0     0.0   \n",
       "6   neg      14     0.0  6.000000e+00     NaN     0.0     0.0     0.0     0.0   \n",
       "7   neg  102960     NaN  2.130706e+09   116.0     0.0     0.0     0.0     0.0   \n",
       "8   neg   78696     NaN  0.000000e+00     NaN     0.0     0.0     0.0     0.0   \n",
       "9   pos  153204     0.0  1.820000e+02     NaN     0.0     0.0     0.0     0.0   \n",
       "\n",
       "   ag_002   ...       ee_002    ee_003     ee_004     ee_005     ee_006  \\\n",
       "0     0.0   ...    1240520.0  493384.0   721044.0   469792.0   339156.0   \n",
       "1     0.0   ...     421400.0  178064.0   293306.0   245416.0   133654.0   \n",
       "2     0.0   ...     277378.0  159812.0   423992.0   409564.0   320746.0   \n",
       "3     0.0   ...        240.0      46.0       58.0       44.0       10.0   \n",
       "4     0.0   ...     622012.0  229790.0   405298.0   347188.0   286954.0   \n",
       "5     0.0   ...     388574.0  288278.0   900430.0   300412.0     1534.0   \n",
       "6     0.0   ...        168.0      48.0       60.0       28.0        0.0   \n",
       "7     0.0   ...     715518.0  384948.0   915978.0  1052166.0  1108672.0   \n",
       "8     0.0   ...     699290.0  362510.0  1190028.0  1012704.0   160090.0   \n",
       "9     0.0   ...     129862.0   26872.0    34044.0    22472.0    34362.0   \n",
       "\n",
       "     ee_007    ee_008  ee_009  ef_000  eg_000  \n",
       "0  157956.0   73224.0     0.0     0.0     0.0  \n",
       "1   81140.0   97576.0  1500.0     0.0     0.0  \n",
       "2  158022.0   95128.0   514.0     0.0     0.0  \n",
       "3       0.0       0.0     0.0     4.0    32.0  \n",
       "4  311560.0  433954.0  1218.0     0.0     0.0  \n",
       "5     338.0     856.0     0.0     0.0     0.0  \n",
       "6       0.0       0.0     0.0     0.0     0.0  \n",
       "7  341532.0  129504.0  7832.0     0.0     0.0  \n",
       "8   63216.0   41202.0     4.0     0.0     0.0  \n",
       "9       0.0       0.0     0.0     0.0     0.0  \n",
       "\n",
       "[10 rows x 171 columns]"
      ]
     },
     "execution_count": 5,
     "metadata": {},
     "output_type": "execute_result"
    }
   ],
   "source": [
    "train_features_raw.head(10)"
   ]
  },
  {
   "cell_type": "markdown",
   "metadata": {},
   "source": [
    "Se ha detectado la presencia de valores NaN"
   ]
  },
  {
   "cell_type": "code",
   "execution_count": 6,
   "metadata": {
    "_cell_guid": "a66c9941-449d-418c-bcd9-2dff01809875",
    "_uuid": "5bf6e59bfc785d5600631a9cb7f0680056a85852",
    "scrolled": true
   },
   "outputs": [
    {
     "name": "stdout",
     "output_type": "stream",
     "text": [
      "8% de los datos no son válidos.\n"
     ]
    }
   ],
   "source": [
    "#Una estrategia de detección de NaN en todo el dataframe es \n",
    "#la concatenación de todos los datos en un solo arreglo y busqueda de nan\n",
    "#Función inspirada en https://www.kaggle.com/romulomadu/minimizing-total-cost-result-9020-00\n",
    "flat_data = train_features.values.flatten() #conversión a arreglo en numpy\n",
    "count=0 \n",
    "for value in flat_data:\n",
    "    if np.isnan(value) == True : #si es nan == True, se suma 1 al contador\n",
    "        count=count+1;\n",
    "pct_nan = round(100*count/len(flat_data))\n",
    "print(f'{pct_nan}% de los datos no son válidos.')"
   ]
  },
  {
   "cell_type": "markdown",
   "metadata": {},
   "source": [
    "## Completando NaN"
   ]
  },
  {
   "cell_type": "code",
   "execution_count": 7,
   "metadata": {},
   "outputs": [],
   "source": [
    "train_features=train_features.fillna(train_features.median())\n",
    "test_features=test_features.fillna(test_features.median())"
   ]
  },
  {
   "cell_type": "code",
   "execution_count": 8,
   "metadata": {},
   "outputs": [
    {
     "name": "stdout",
     "output_type": "stream",
     "text": [
      "0% de los datos no son válidos.\n"
     ]
    }
   ],
   "source": [
    "flat_data = train_features.values.flatten() #conversión a arreglo en numpy\n",
    "count=0 \n",
    "for value in flat_data:\n",
    "    if np.isnan(value) == True : #si es nan == True, se suma 1 al contador\n",
    "        count=count+1;\n",
    "pct_nan = round(100*count/len(flat_data))\n",
    "print(f'{pct_nan}% de los datos no son válidos.')"
   ]
  },
  {
   "cell_type": "markdown",
   "metadata": {},
   "source": [
    "Se verifica que no hay datos faltantes"
   ]
  },
  {
   "cell_type": "markdown",
   "metadata": {},
   "source": [
    "\n",
    "   ## Estandarización (escalamiento)\n",
    "\n",
    "$$    X^* = \\frac{X - X_{min}}{X_{max} - X_{min}} (b-a) $$\n",
    "\n",
    "$ X^*: Valor \\ estandarizado$ \n",
    "\n",
    "$ X_{min}: Valor \\ inicial $ \n",
    "\n",
    "$ X_{max} : Promedio $\n",
    "\n",
    "$ [b,a]: Intervalo \\ de \\ valores \\ estandarizados $\n",
    "\n",
    "Se escalarán los valores en el intervalo de 0 y 1 utilizando MinMaxScaler\n"
   ]
  },
  {
   "cell_type": "markdown",
   "metadata": {
    "_cell_guid": "4fd91abf-8a1c-413e-b2da-215e398537ba",
    "_uuid": "b0d0dc410e1db2327172551647e2d69b10b4abb4"
   },
   "source": [
    "En primera instancia, se utiliza la estandarización MinMaxScaler"
   ]
  },
  {
   "cell_type": "code",
   "execution_count": 9,
   "metadata": {
    "_cell_guid": "1e2c4de2-3842-43ef-9737-ba5f9f83b55d",
    "_uuid": "d75ad2e36a03cd2ae222ad4de9413c35043b5652"
   },
   "outputs": [],
   "source": [
    "scaler = MinMaxScaler()\n",
    "scaler.fit(train_features)\n",
    "train_features = pd.DataFrame(scaler.transform(train_features), columns=train_features.columns)\n",
    "test_features = pd.DataFrame(scaler.transform(test_features), columns=test_features.columns)"
   ]
  },
  {
   "cell_type": "markdown",
   "metadata": {
    "_cell_guid": "c247b623-1040-44e4-b44c-778ffb3a7a70",
    "_uuid": "811b92dab7c293cac4cc27c6de8b4ddb1d92c3f5"
   },
   "source": [
    "Descripción de los datos posterior al escalamiento"
   ]
  },
  {
   "cell_type": "markdown",
   "metadata": {
    "_cell_guid": "dbb2cb75-a047-4bcf-ac39-2ae33cfb25e5",
    "_uuid": "bb254c70492ae2dc067909ffe9eacd1d8b59c8b6"
   },
   "source": [
    "### Procesando los datos de entrenamiento"
   ]
  },
  {
   "cell_type": "code",
   "execution_count": 10,
   "metadata": {
    "_cell_guid": "963a166f-d692-4640-bd90-f77d78a4f606",
    "_uuid": "1129ee7e57fa74fa930f29bbf846c302cfc1b4ea"
   },
   "outputs": [],
   "source": [
    "#Reemplazo de labels de entrenamiento y prueba\n",
    "train_labels = train_labels.replace({'neg':0,'pos':1});\n",
    "test_labels = test_labels.replace({'neg':0,'pos':1})"
   ]
  },
  {
   "cell_type": "markdown",
   "metadata": {
    "_cell_guid": "5099b0e3-dc6d-446b-94b4-ac7ee01a6aae",
    "_uuid": "b62194b0a9a44ff7221cf5b26aa75ac1a68a3e08"
   },
   "source": [
    "### Mostrar datos desbalanceados"
   ]
  },
  {
   "cell_type": "code",
   "execution_count": 11,
   "metadata": {
    "_cell_guid": "bd52b6c5-fe95-4ccf-8b64-75bb4a3f99b1",
    "_uuid": "56af87c846427516ab50a427668392938a5d709b",
    "scrolled": true
   },
   "outputs": [
    {
     "data": {
      "image/png": "[encoded data removed]",
      "text/plain": [
       "<matplotlib.figure.Figure at 0x10b16cd8898>"
      ]
     },
     "metadata": {},
     "output_type": "display_data"
    }
   ],
   "source": [
    "bar(train_labels.value_counts())\n",
    "plt.show()"
   ]
  },
  {
   "cell_type": "markdown",
   "metadata": {
    "_cell_guid": "f9fda025-eafc-4a57-ba26-c3f951063787",
    "_uuid": "34d3e21edf31f6f1cf75dff904df8e600b2fbe26"
   },
   "source": [
    "## Procesamiento y análisis"
   ]
  },
  {
   "cell_type": "markdown",
   "metadata": {
    "_cell_guid": "be9e6638-02ff-4a02-8fcb-1e347bbdecbc",
    "_uuid": "237f52b4df6835410c9df0a54299dcbf3d1bb5db"
   },
   "source": [
    "### Selección de variables mediante PCA"
   ]
  },
  {
   "cell_type": "raw",
   "metadata": {},
   "source": []
  },
  {
   "cell_type": "code",
   "execution_count": 12,
   "metadata": {
    "_cell_guid": "68cb66c6-13c3-4d38-a86f-6e59ee665e45",
    "_uuid": "483e6b2c196909b3df826eddbb5a54709cddf8ec"
   },
   "outputs": [],
   "source": [
    "#Se realizará un PCA utilizando el 95 de la varianza\n",
    "pca = PCA(0.95)\n",
    "pca.fit(train_features)\n",
    "train_features_pca = pca.transform(train_features) #Es un array\n",
    "train_features_pca = pd.DataFrame(train_features_pca) #convertir a df "
   ]
  },
  {
   "cell_type": "code",
   "execution_count": 13,
   "metadata": {
    "_cell_guid": "e90a56a5-d2ba-464f-ab8c-8a173e0c783c",
    "_uuid": "9715d933e649558ad526324dd56016700e49256c",
    "scrolled": true
   },
   "outputs": [
    {
     "name": "stdout",
     "output_type": "stream",
     "text": [
      "Número de componentes principales 10\n"
     ]
    }
   ],
   "source": [
    "print('Número de componentes principales',pca.n_components_)"
   ]
  },
  {
   "cell_type": "markdown",
   "metadata": {
    "_cell_guid": "2177078d-81bc-4117-83a6-75a0c8a43114",
    "_uuid": "6e87255d248ee455f96d621ce09f5ad0bda78e6c"
   },
   "source": [
    "### Balanceo de datos"
   ]
  },
  {
   "cell_type": "code",
   "execution_count": 14,
   "metadata": {
    "_cell_guid": "90a7a94a-452a-4967-8a11-a11748d4472e",
    "_uuid": "a1bcdb546500d42d2779cef19f513e5c71022867"
   },
   "outputs": [],
   "source": [
    "# Se selecciona una muestra class=0 con igual número de elementos de class =1\n",
    "# Tomado de https://www.kaggle.com/romulomadu/minimizing-total-cost-result-9020-00\n",
    "id_1 = train_labels[train_labels==1].index\n",
    "id_0 = train_labels[train_labels==0].sample(n=1000, replace=False, random_state=0).index\n",
    "id_balanced = np.concatenate((id_1,id_0)) #index de datos balanceados\n",
    "#para pca\n",
    "train_features_balanced_pca = train_features_pca.loc[id_balanced]\n",
    "\n",
    "#labels a predecir\n",
    "train_labels_balanced = train_labels.loc[id_balanced]\n"
   ]
  },
  {
   "cell_type": "code",
   "execution_count": 15,
   "metadata": {
    "scrolled": true
   },
   "outputs": [
    {
     "data": {
      "text/plain": [
       "1    1000\n",
       "0    1000\n",
       "Name: class, dtype: int64"
      ]
     },
     "execution_count": 15,
     "metadata": {},
     "output_type": "execute_result"
    }
   ],
   "source": [
    "train_labels_balanced.value_counts()"
   ]
  },
  {
   "cell_type": "markdown",
   "metadata": {
    "_cell_guid": "eef51a13-d09a-4eb5-98ee-ef1cd0bb4d32",
    "_uuid": "4bbfd772322c1edb8a2555e5c0d270d5c2f848fa"
   },
   "source": [
    "### Random Forest\n",
    "#### usando PCA"
   ]
  },
  {
   "cell_type": "code",
   "execution_count": 16,
   "metadata": {
    "_cell_guid": "0dfcf59e-f7bc-4df4-ad21-20d9fe58fcfd",
    "_uuid": "e0014c1b062884e9e4f8ee919bc3e15e7779f438"
   },
   "outputs": [
    {
     "data": {
      "text/plain": [
       "RandomForestClassifier(bootstrap=True, class_weight=None, criterion='gini',\n",
       "            max_depth=None, max_features='auto', max_leaf_nodes=None,\n",
       "            min_impurity_decrease=0.0, min_impurity_split=None,\n",
       "            min_samples_leaf=1, min_samples_split=2,\n",
       "            min_weight_fraction_leaf=0.0, n_estimators=20, n_jobs=1,\n",
       "            oob_score=False, random_state=None, verbose=0,\n",
       "            warm_start=False)"
      ]
     },
     "execution_count": 16,
     "metadata": {},
     "output_type": "execute_result"
    }
   ],
   "source": [
    "#Se definen los parámetros a probar\n",
    "rfc_pca = RandomForestClassifier(n_estimators=20, criterion='gini', max_depth=None, min_samples_split=2, min_samples_leaf=1, min_weight_fraction_leaf=0.0, max_features='auto', max_leaf_nodes=None, min_impurity_decrease=0.0, min_impurity_split=None, bootstrap=True, oob_score=False, n_jobs=1, random_state=None, verbose=0, warm_start=False, class_weight=None)\n",
    "rfc_pca.fit(train_features_balanced_pca, train_labels_balanced)\n",
    "rfc_pca\n",
    "    "
   ]
  },
  {
   "cell_type": "markdown",
   "metadata": {
    "_cell_guid": "1f494cb4-43d7-48a5-82e9-3728ac6a3c37",
    "_uuid": "7f70c4fd5e7f0cfcc8931156b047baadb56e4d9d"
   },
   "source": [
    "## Predicción Random Forest"
   ]
  },
  {
   "cell_type": "code",
   "execution_count": 17,
   "metadata": {},
   "outputs": [],
   "source": [
    "#Función que calcula el costo total de acuerdo al problema\n",
    "def costo_total(cm):\n",
    "    costo= 10*cm[0,1] + 500*cm[1,0]\n",
    "    return costo"
   ]
  },
  {
   "cell_type": "code",
   "execution_count": 18,
   "metadata": {
    "_cell_guid": "df9eaad0-7f72-4d34-83d4-cbc4cdc5d835",
    "_uuid": "9de645cf1f6e63993fa6946d37cfd8524c66cf90"
   },
   "outputs": [
    {
     "name": "stdout",
     "output_type": "stream",
     "text": [
      "              +-----------------+\n",
      "              |   Predicción    |\n",
      "              +-----------------+\n",
      "              |    +   |    -   |\n",
      "+-------+-----+--------+--------+\n",
      "| Valor |  +  |    364 |     11 |\n",
      "| real  +-----+--------+--------+\n",
      "|       |  -  |    993 |  14632 |\n",
      "+-------+-----+--------+--------+\n",
      "Costo total para Random forest y PCA es 15430\n"
     ]
    }
   ],
   "source": [
    "test_features_pca = pca.transform(test_features)\n",
    "y_pred_rf_pca = rfc_pca.predict(test_features_pca)\n",
    "cm_rf_pca =confusion_matrix(test_labels, y_pred_rf_pca)\n",
    "print_binary_confusion_matrix (cm_rf_pca)\n",
    "\n",
    "print('Costo total para Random forest y PCA es',costo_total(cm_rf_pca))"
   ]
  },
  {
   "cell_type": "markdown",
   "metadata": {},
   "source": [
    "## Notas:\n",
    "\n",
    "#### Hace falta utilizar otros métodos para reemplazar los datos faltantes (se sugiere utilizar MICE)\n",
    "#### hace probar otros métodos de normalización\n",
    "#### Hace falta utilizar otros métodos de reducción de dimensionalidad.\n",
    "#### Hace falta utilizar Gridsearch para mejorar la búsqueda de hiperparámetros\n"
   ]
  },
  {
   "cell_type": "code",
   "execution_count": null,
   "metadata": {},
   "outputs": [],
   "source": []
  }
 ],
 "metadata": {
  "kernelspec": {
   "display_name": "Python 3",
   "language": "python",
   "name": "python3"
  },
  "language_info": {
   "codemirror_mode": {
    "name": "ipython",
    "version": 3
   },
   "file_extension": ".py",
   "mimetype": "text/x-python",
   "name": "python",
   "nbconvert_exporter": "python",
   "pygments_lexer": "ipython3",
   "version": "3.6.4"
  }
 },
 "nbformat": 4,
 "nbformat_minor": 2
}
