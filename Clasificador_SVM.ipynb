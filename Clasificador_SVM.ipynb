{
 "cells": [
  {
   "cell_type": "code",
   "execution_count": 1,
   "metadata": {},
   "outputs": [],
   "source": [
    "import numpy as np\n",
    "import pandas as pd\n",
    "import matplotlib.pyplot as plt\n",
    "%matplotlib inline"
   ]
  },
  {
   "cell_type": "code",
   "execution_count": 2,
   "metadata": {},
   "outputs": [],
   "source": [
    "df_train = pd.read_csv('data/aps_failure_training_set.csv',na_values='na')\n",
    "df_test = pd.read_csv('data/aps_failure_test_set.csv', na_values='na')"
   ]
  },
  {
   "cell_type": "code",
   "execution_count": 3,
   "metadata": {},
   "outputs": [
    {
     "data": {
      "text/plain": [
       "neg    59000\n",
       "pos     1000\n",
       "Name: class, dtype: int64"
      ]
     },
     "execution_count": 3,
     "metadata": {},
     "output_type": "execute_result"
    }
   ],
   "source": [
    "df_train['class'].value_counts()"
   ]
  },
  {
   "cell_type": "code",
   "execution_count": 4,
   "metadata": {},
   "outputs": [],
   "source": [
    "feature_columns = df_train.drop(columns=['class']).columns.values\n",
    "features = np.empty((1,1))\n",
    "for feature in feature_columns:\n",
    "    if len(df_train.loc[df_train[feature].notnull()]) > 50000:\n",
    "        features = np.append(features,feature)\n",
    "        \n",
    "features = np.delete(features,0,0)"
   ]
  },
  {
   "cell_type": "code",
   "execution_count": 5,
   "metadata": {},
   "outputs": [],
   "source": [
    "df_train[features]=df_train[features].fillna(df_train.median())\n",
    "df_test[features]=df_test[features].fillna(df_test.median())"
   ]
  },
  {
   "cell_type": "code",
   "execution_count": 6,
   "metadata": {},
   "outputs": [
    {
     "name": "stdout",
     "output_type": "stream",
     "text": [
      "df_train target:\n",
      "-1    59000\n",
      " 1     1000\n",
      "Name: target, dtype: int64\n",
      "df_test target:\n",
      "-1    15625\n",
      " 1      375\n",
      "Name: target, dtype: int64\n"
     ]
    },
    {
     "data": {
      "text/plain": [
       "(None, None)"
      ]
     },
     "execution_count": 6,
     "metadata": {},
     "output_type": "execute_result"
    }
   ],
   "source": [
    "df_train['target'] = df_train['class'].replace ({'neg':-1, 'pos':1})\n",
    "df_test['target'] = df_test['class'].replace ({'neg':-1, 'pos':1})\n",
    "print( 'df_train target:'), print(df_train['target'].value_counts())\n",
    "print( 'df_test target:'), print(df_test['target'].value_counts())"
   ]
  },
  {
   "cell_type": "code",
   "execution_count": 7,
   "metadata": {},
   "outputs": [],
   "source": [
    "X = df_train[features]\n",
    "Y = df_train['target']"
   ]
  },
  {
   "cell_type": "code",
   "execution_count": 8,
   "metadata": {},
   "outputs": [],
   "source": [
    "from sklearn.model_selection import train_test_split\n",
    "x_train, x_val, y_train, y_val = train_test_split(X, Y,test_size = .1,random_state=12)"
   ]
  },
  {
   "cell_type": "code",
   "execution_count": 9,
   "metadata": {},
   "outputs": [],
   "source": [
    "from sklearn.preprocessing import StandardScaler\n",
    "\n",
    "scaler = StandardScaler().fit(x_train)\n",
    "X_train_scaled = scaler.transform(x_train)\n",
    "X_val_scaled = scaler.transform(x_val)\n",
    "\n"
   ]
  },
  {
   "cell_type": "code",
   "execution_count": 10,
   "metadata": {},
   "outputs": [
    {
     "name": "stderr",
     "output_type": "stream",
     "text": [
      "/home/javatar/anaconda3/lib/python3.6/site-packages/sklearn/utils/deprecation.py:77: DeprecationWarning: Function _ratio_float is deprecated; Use a float for 'ratio' is deprecated from version 0.2. The support will be removed in 0.4. Use a dict, str, or a callable instead.\n",
      "  warnings.warn(msg, category=DeprecationWarning)\n"
     ]
    }
   ],
   "source": [
    "from imblearn.over_sampling import SMOTE\n",
    "sm = SMOTE(random_state=12, ratio = 1.0)\n",
    "x_train_res, y_train_res = sm.fit_sample(X_train_scaled, y_train)"
   ]
  },
  {
   "cell_type": "code",
   "execution_count": 17,
   "metadata": {},
   "outputs": [
    {
     "data": {
      "text/plain": [
       "array([[   -1, 53091],\n",
       "       [    1, 53091]])"
      ]
     },
     "execution_count": 17,
     "metadata": {},
     "output_type": "execute_result"
    }
   ],
   "source": [
    "from scipy.stats import itemfreq\n",
    "itemfreq(y_train_res)"
   ]
  },
  {
   "cell_type": "code",
   "execution_count": 21,
   "metadata": {},
   "outputs": [
    {
     "data": {
      "text/html": [
       "<div>\n",
       "<style scoped>\n",
       "    .dataframe tbody tr th:only-of-type {\n",
       "        vertical-align: middle;\n",
       "    }\n",
       "\n",
       "    .dataframe tbody tr th {\n",
       "        vertical-align: top;\n",
       "    }\n",
       "\n",
       "    .dataframe thead th {\n",
       "        text-align: right;\n",
       "    }\n",
       "</style>\n",
       "<table border=\"1\" class=\"dataframe\">\n",
       "  <thead>\n",
       "    <tr style=\"text-align: right;\">\n",
       "      <th></th>\n",
       "      <th>0</th>\n",
       "      <th>1</th>\n",
       "      <th>2</th>\n",
       "      <th>3</th>\n",
       "      <th>4</th>\n",
       "      <th>5</th>\n",
       "      <th>6</th>\n",
       "      <th>7</th>\n",
       "      <th>8</th>\n",
       "      <th>9</th>\n",
       "      <th>...</th>\n",
       "      <th>135</th>\n",
       "      <th>136</th>\n",
       "      <th>137</th>\n",
       "      <th>138</th>\n",
       "      <th>139</th>\n",
       "      <th>140</th>\n",
       "      <th>141</th>\n",
       "      <th>142</th>\n",
       "      <th>143</th>\n",
       "      <th>144</th>\n",
       "    </tr>\n",
       "  </thead>\n",
       "  <tbody>\n",
       "    <tr>\n",
       "      <th>0</th>\n",
       "      <td>0.268560</td>\n",
       "      <td>2.311223</td>\n",
       "      <td>-0.040839</td>\n",
       "      <td>-0.050846</td>\n",
       "      <td>-0.010687</td>\n",
       "      <td>-0.028368</td>\n",
       "      <td>-0.05695</td>\n",
       "      <td>-0.115844</td>\n",
       "      <td>-0.056276</td>\n",
       "      <td>0.551121</td>\n",
       "      <td>...</td>\n",
       "      <td>0.517241</td>\n",
       "      <td>0.610436</td>\n",
       "      <td>0.497912</td>\n",
       "      <td>0.411771</td>\n",
       "      <td>0.162321</td>\n",
       "      <td>-0.046565</td>\n",
       "      <td>0.445747</td>\n",
       "      <td>-0.070528</td>\n",
       "      <td>-0.02052</td>\n",
       "      <td>-0.023745</td>\n",
       "    </tr>\n",
       "    <tr>\n",
       "      <th>1</th>\n",
       "      <td>-0.209435</td>\n",
       "      <td>-0.432672</td>\n",
       "      <td>-0.040839</td>\n",
       "      <td>-0.050846</td>\n",
       "      <td>-0.010687</td>\n",
       "      <td>-0.028368</td>\n",
       "      <td>-0.05695</td>\n",
       "      <td>-0.115867</td>\n",
       "      <td>-0.178533</td>\n",
       "      <td>-0.017392</td>\n",
       "      <td>...</td>\n",
       "      <td>-0.063901</td>\n",
       "      <td>-0.146789</td>\n",
       "      <td>-0.154709</td>\n",
       "      <td>-0.175970</td>\n",
       "      <td>-0.177147</td>\n",
       "      <td>-0.163740</td>\n",
       "      <td>-0.192965</td>\n",
       "      <td>-0.187892</td>\n",
       "      <td>-0.02052</td>\n",
       "      <td>-0.023745</td>\n",
       "    </tr>\n",
       "    <tr>\n",
       "      <th>2</th>\n",
       "      <td>-0.404205</td>\n",
       "      <td>-0.432672</td>\n",
       "      <td>-0.040839</td>\n",
       "      <td>-0.050846</td>\n",
       "      <td>-0.010687</td>\n",
       "      <td>-0.028368</td>\n",
       "      <td>-0.05695</td>\n",
       "      <td>-0.115867</td>\n",
       "      <td>-0.171976</td>\n",
       "      <td>-0.335567</td>\n",
       "      <td>...</td>\n",
       "      <td>-0.382494</td>\n",
       "      <td>-0.384327</td>\n",
       "      <td>-0.378234</td>\n",
       "      <td>-0.353607</td>\n",
       "      <td>-0.308513</td>\n",
       "      <td>-0.190240</td>\n",
       "      <td>-0.310446</td>\n",
       "      <td>-0.188123</td>\n",
       "      <td>-0.02052</td>\n",
       "      <td>-0.023745</td>\n",
       "    </tr>\n",
       "    <tr>\n",
       "      <th>3</th>\n",
       "      <td>0.006216</td>\n",
       "      <td>-0.432672</td>\n",
       "      <td>-0.040839</td>\n",
       "      <td>-0.050846</td>\n",
       "      <td>-0.010687</td>\n",
       "      <td>-0.028368</td>\n",
       "      <td>-0.05695</td>\n",
       "      <td>-0.115867</td>\n",
       "      <td>-0.178934</td>\n",
       "      <td>0.029125</td>\n",
       "      <td>...</td>\n",
       "      <td>0.041503</td>\n",
       "      <td>0.124958</td>\n",
       "      <td>0.092750</td>\n",
       "      <td>0.052627</td>\n",
       "      <td>0.068090</td>\n",
       "      <td>-0.023637</td>\n",
       "      <td>0.201816</td>\n",
       "      <td>-0.187800</td>\n",
       "      <td>-0.02052</td>\n",
       "      <td>-0.023745</td>\n",
       "    </tr>\n",
       "    <tr>\n",
       "      <th>4</th>\n",
       "      <td>-0.248588</td>\n",
       "      <td>-0.432672</td>\n",
       "      <td>-0.040839</td>\n",
       "      <td>-0.050846</td>\n",
       "      <td>-0.010687</td>\n",
       "      <td>-0.028368</td>\n",
       "      <td>-0.05695</td>\n",
       "      <td>-0.115867</td>\n",
       "      <td>-0.182223</td>\n",
       "      <td>-0.337355</td>\n",
       "      <td>...</td>\n",
       "      <td>-0.383318</td>\n",
       "      <td>-0.385500</td>\n",
       "      <td>-0.379147</td>\n",
       "      <td>-0.354507</td>\n",
       "      <td>-0.309314</td>\n",
       "      <td>-0.198781</td>\n",
       "      <td>-0.310446</td>\n",
       "      <td>-0.188123</td>\n",
       "      <td>-0.02052</td>\n",
       "      <td>-0.023745</td>\n",
       "    </tr>\n",
       "  </tbody>\n",
       "</table>\n",
       "<p>5 rows × 145 columns</p>\n",
       "</div>"
      ],
      "text/plain": [
       "        0         1         2         3         4         5        6    \\\n",
       "0  0.268560  2.311223 -0.040839 -0.050846 -0.010687 -0.028368 -0.05695   \n",
       "1 -0.209435 -0.432672 -0.040839 -0.050846 -0.010687 -0.028368 -0.05695   \n",
       "2 -0.404205 -0.432672 -0.040839 -0.050846 -0.010687 -0.028368 -0.05695   \n",
       "3  0.006216 -0.432672 -0.040839 -0.050846 -0.010687 -0.028368 -0.05695   \n",
       "4 -0.248588 -0.432672 -0.040839 -0.050846 -0.010687 -0.028368 -0.05695   \n",
       "\n",
       "        7         8         9      ...          135       136       137  \\\n",
       "0 -0.115844 -0.056276  0.551121    ...     0.517241  0.610436  0.497912   \n",
       "1 -0.115867 -0.178533 -0.017392    ...    -0.063901 -0.146789 -0.154709   \n",
       "2 -0.115867 -0.171976 -0.335567    ...    -0.382494 -0.384327 -0.378234   \n",
       "3 -0.115867 -0.178934  0.029125    ...     0.041503  0.124958  0.092750   \n",
       "4 -0.115867 -0.182223 -0.337355    ...    -0.383318 -0.385500 -0.379147   \n",
       "\n",
       "        138       139       140       141       142      143       144  \n",
       "0  0.411771  0.162321 -0.046565  0.445747 -0.070528 -0.02052 -0.023745  \n",
       "1 -0.175970 -0.177147 -0.163740 -0.192965 -0.187892 -0.02052 -0.023745  \n",
       "2 -0.353607 -0.308513 -0.190240 -0.310446 -0.188123 -0.02052 -0.023745  \n",
       "3  0.052627  0.068090 -0.023637  0.201816 -0.187800 -0.02052 -0.023745  \n",
       "4 -0.354507 -0.309314 -0.198781 -0.310446 -0.188123 -0.02052 -0.023745  \n",
       "\n",
       "[5 rows x 145 columns]"
      ]
     },
     "execution_count": 21,
     "metadata": {},
     "output_type": "execute_result"
    }
   ],
   "source": [
    "pd.DataFrame(x_train_res).head()"
   ]
  },
  {
   "cell_type": "code",
   "execution_count": 22,
   "metadata": {},
   "outputs": [],
   "source": [
    "from sklearn.decomposition import PCA\n",
    "pca = PCA()\n",
    "pca.fit(x_train_res)\n",
    "X_t_train = pca.transform(x_train_res)\n",
    "X_t_test = pca.transform(X_val_scaled)"
   ]
  },
  {
   "cell_type": "code",
   "execution_count": 27,
   "metadata": {},
   "outputs": [
    {
     "data": {
      "text/plain": [
       "(106182, 145)"
      ]
     },
     "execution_count": 27,
     "metadata": {},
     "output_type": "execute_result"
    }
   ],
   "source": [
    "X_t_train.shape"
   ]
  },
  {
   "cell_type": "code",
   "execution_count": 28,
   "metadata": {},
   "outputs": [
    {
     "data": {
      "text/plain": [
       "SVC(C=1.0, cache_size=200, class_weight=None, coef0=0.0,\n",
       "  decision_function_shape='ovr', degree=3, gamma='auto', kernel='rbf',\n",
       "  max_iter=-1, probability=False, random_state=None, shrinking=True,\n",
       "  tol=0.001, verbose=False)"
      ]
     },
     "execution_count": 28,
     "metadata": {},
     "output_type": "execute_result"
    }
   ],
   "source": [
    "from sklearn.svm import SVC\n",
    "clf = SVC()\n",
    "clf.fit(X_t_train, y_train_res)"
   ]
  },
  {
   "cell_type": "code",
   "execution_count": 29,
   "metadata": {},
   "outputs": [
    {
     "data": {
      "text/plain": [
       "0.9845"
      ]
     },
     "execution_count": 29,
     "metadata": {},
     "output_type": "execute_result"
    }
   ],
   "source": [
    "clf.score(X_t_test, y_val)"
   ]
  },
  {
   "cell_type": "code",
   "execution_count": 32,
   "metadata": {},
   "outputs": [
    {
     "name": "stdout",
     "output_type": "stream",
     "text": [
      "Predicciones correctas :  5907\n",
      "Número de muestras     :  6000\n",
      "Exactitud (manual)     :  0.9845\n"
     ]
    }
   ],
   "source": [
    "from sklearn import metrics\n",
    "\n",
    "predicciones_val = clf.predict(X_t_test)\n",
    "num_predicciones_correctas = (y_val == predicciones_val).sum()\n",
    "num_total_de_muestras = len(y_val)\n",
    "exactitud = num_predicciones_correctas / num_total_de_muestras\n",
    "\n",
    "print ( 'Predicciones correctas : ', num_predicciones_correctas )\n",
    "print ( 'Número de muestras     : ', num_total_de_muestras )\n",
    "print ( 'Exactitud (manual)     : ', exactitud )"
   ]
  },
  {
   "cell_type": "code",
   "execution_count": 34,
   "metadata": {},
   "outputs": [
    {
     "name": "stdout",
     "output_type": "stream",
     "text": [
      "Predicciones correctas :  15767\n",
      "Número de muestras     :  16000\n",
      "Exactitud (manual)     :  0.9854375\n"
     ]
    }
   ],
   "source": [
    "X_test = df_test[features]\n",
    "y_test = df_test['target']\n",
    "X_test_scaled = scaler.transform(X_test)\n",
    "X_t_test = pca.transform(X_test_scaled)\n",
    "\n",
    "predicciones_val = clf.predict(X_t_test)\n",
    "num_predicciones_correctas = (y_test == predicciones_val).sum()\n",
    "num_total_de_muestras = len(y_test)\n",
    "exactitud = num_predicciones_correctas / num_total_de_muestras\n",
    "\n",
    "print ( 'Predicciones correctas : ', num_predicciones_correctas )\n",
    "print ( 'Número de muestras     : ', num_total_de_muestras )\n",
    "print ( 'Exactitud (manual)     : ', exactitud )"
   ]
  },
  {
   "cell_type": "code",
   "execution_count": 38,
   "metadata": {},
   "outputs": [
    {
     "name": "stdout",
     "output_type": "stream",
     "text": [
      "Total Cost:  22910\n"
     ]
    }
   ],
   "source": [
    "#Costo de Pronostico (Santosh)\n",
    "\n",
    "U_check = 10 #cost that an unnecessary check\n",
    "M_check = 500 # cost of missing a faulty truck\n",
    "\n",
    "FP = ((predicciones_val == 1) & (y_test == -1)).sum()\n",
    "FN = ((predicciones_val == -1) & (y_test == 1)).sum()\n",
    "\n",
    "Total_Cost = FP*U_check + FN*M_check\n",
    "print('Total Cost: ', Total_Cost)"
   ]
  }
 ],
 "metadata": {
  "kernelspec": {
   "display_name": "Python 3",
   "language": "python",
   "name": "python3"
  },
  "language_info": {
   "codemirror_mode": {
    "name": "ipython",
    "version": 3
   },
   "file_extension": ".py",
   "mimetype": "text/x-python",
   "name": "python",
   "nbconvert_exporter": "python",
   "pygments_lexer": "ipython3",
   "version": "3.6.4"
  }
 },
 "nbformat": 4,
 "nbformat_minor": 2
}
