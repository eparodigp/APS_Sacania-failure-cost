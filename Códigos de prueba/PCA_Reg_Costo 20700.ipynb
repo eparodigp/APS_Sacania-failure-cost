{
 "cells": [
  {
   "cell_type": "markdown",
   "metadata": {},
   "source": [
    "Clasificación.\n",
    "Problema de clasificación binaria., Fuente Exámen Parcial"
   ]
  },
  {
   "cell_type": "code",
   "execution_count": 34,
   "metadata": {},
   "outputs": [],
   "source": [
    "import numpy as np\n",
    "import pandas as pd\n",
    "import matplotlib.pyplot as plt\n",
    "%matplotlib inline\n",
    "#import matplotlib as mpl\n",
    "#plt.style.use('ggplot')"
   ]
  },
  {
   "cell_type": "code",
   "execution_count": 35,
   "metadata": {},
   "outputs": [],
   "source": [
    "df_train = pd.read_csv('Data Set/aps_failure_training_set.csv',na_values='na')\n",
    "df_test = pd.read_csv('Data Set/aps_failure_test_set.csv', na_values='na')"
   ]
  },
  {
   "cell_type": "code",
   "execution_count": 36,
   "metadata": {},
   "outputs": [
    {
     "name": "stdout",
     "output_type": "stream",
     "text": [
      "df_train: (60000, 171)\n"
     ]
    },
    {
     "data": {
      "text/html": [
       "<div>\n",
       "<style scoped>\n",
       "    .dataframe tbody tr th:only-of-type {\n",
       "        vertical-align: middle;\n",
       "    }\n",
       "\n",
       "    .dataframe tbody tr th {\n",
       "        vertical-align: top;\n",
       "    }\n",
       "\n",
       "    .dataframe thead th {\n",
       "        text-align: right;\n",
       "    }\n",
       "</style>\n",
       "<table border=\"1\" class=\"dataframe\">\n",
       "  <thead>\n",
       "    <tr style=\"text-align: right;\">\n",
       "      <th></th>\n",
       "      <th>class</th>\n",
       "      <th>aa_000</th>\n",
       "      <th>ab_000</th>\n",
       "      <th>ac_000</th>\n",
       "      <th>ad_000</th>\n",
       "      <th>ae_000</th>\n",
       "      <th>af_000</th>\n",
       "      <th>ag_000</th>\n",
       "      <th>ag_001</th>\n",
       "      <th>ag_002</th>\n",
       "      <th>...</th>\n",
       "      <th>ee_002</th>\n",
       "      <th>ee_003</th>\n",
       "      <th>ee_004</th>\n",
       "      <th>ee_005</th>\n",
       "      <th>ee_006</th>\n",
       "      <th>ee_007</th>\n",
       "      <th>ee_008</th>\n",
       "      <th>ee_009</th>\n",
       "      <th>ef_000</th>\n",
       "      <th>eg_000</th>\n",
       "    </tr>\n",
       "  </thead>\n",
       "  <tbody>\n",
       "    <tr>\n",
       "      <th>0</th>\n",
       "      <td>neg</td>\n",
       "      <td>76698</td>\n",
       "      <td>NaN</td>\n",
       "      <td>2.130706e+09</td>\n",
       "      <td>280.0</td>\n",
       "      <td>0.0</td>\n",
       "      <td>0.0</td>\n",
       "      <td>0.0</td>\n",
       "      <td>0.0</td>\n",
       "      <td>0.0</td>\n",
       "      <td>...</td>\n",
       "      <td>1240520.0</td>\n",
       "      <td>493384.0</td>\n",
       "      <td>721044.0</td>\n",
       "      <td>469792.0</td>\n",
       "      <td>339156.0</td>\n",
       "      <td>157956.0</td>\n",
       "      <td>73224.0</td>\n",
       "      <td>0.0</td>\n",
       "      <td>0.0</td>\n",
       "      <td>0.0</td>\n",
       "    </tr>\n",
       "    <tr>\n",
       "      <th>1</th>\n",
       "      <td>neg</td>\n",
       "      <td>33058</td>\n",
       "      <td>NaN</td>\n",
       "      <td>0.000000e+00</td>\n",
       "      <td>NaN</td>\n",
       "      <td>0.0</td>\n",
       "      <td>0.0</td>\n",
       "      <td>0.0</td>\n",
       "      <td>0.0</td>\n",
       "      <td>0.0</td>\n",
       "      <td>...</td>\n",
       "      <td>421400.0</td>\n",
       "      <td>178064.0</td>\n",
       "      <td>293306.0</td>\n",
       "      <td>245416.0</td>\n",
       "      <td>133654.0</td>\n",
       "      <td>81140.0</td>\n",
       "      <td>97576.0</td>\n",
       "      <td>1500.0</td>\n",
       "      <td>0.0</td>\n",
       "      <td>0.0</td>\n",
       "    </tr>\n",
       "    <tr>\n",
       "      <th>2</th>\n",
       "      <td>neg</td>\n",
       "      <td>41040</td>\n",
       "      <td>NaN</td>\n",
       "      <td>2.280000e+02</td>\n",
       "      <td>100.0</td>\n",
       "      <td>0.0</td>\n",
       "      <td>0.0</td>\n",
       "      <td>0.0</td>\n",
       "      <td>0.0</td>\n",
       "      <td>0.0</td>\n",
       "      <td>...</td>\n",
       "      <td>277378.0</td>\n",
       "      <td>159812.0</td>\n",
       "      <td>423992.0</td>\n",
       "      <td>409564.0</td>\n",
       "      <td>320746.0</td>\n",
       "      <td>158022.0</td>\n",
       "      <td>95128.0</td>\n",
       "      <td>514.0</td>\n",
       "      <td>0.0</td>\n",
       "      <td>0.0</td>\n",
       "    </tr>\n",
       "    <tr>\n",
       "      <th>3</th>\n",
       "      <td>neg</td>\n",
       "      <td>12</td>\n",
       "      <td>0.0</td>\n",
       "      <td>7.000000e+01</td>\n",
       "      <td>66.0</td>\n",
       "      <td>0.0</td>\n",
       "      <td>10.0</td>\n",
       "      <td>0.0</td>\n",
       "      <td>0.0</td>\n",
       "      <td>0.0</td>\n",
       "      <td>...</td>\n",
       "      <td>240.0</td>\n",
       "      <td>46.0</td>\n",
       "      <td>58.0</td>\n",
       "      <td>44.0</td>\n",
       "      <td>10.0</td>\n",
       "      <td>0.0</td>\n",
       "      <td>0.0</td>\n",
       "      <td>0.0</td>\n",
       "      <td>4.0</td>\n",
       "      <td>32.0</td>\n",
       "    </tr>\n",
       "    <tr>\n",
       "      <th>4</th>\n",
       "      <td>neg</td>\n",
       "      <td>60874</td>\n",
       "      <td>NaN</td>\n",
       "      <td>1.368000e+03</td>\n",
       "      <td>458.0</td>\n",
       "      <td>0.0</td>\n",
       "      <td>0.0</td>\n",
       "      <td>0.0</td>\n",
       "      <td>0.0</td>\n",
       "      <td>0.0</td>\n",
       "      <td>...</td>\n",
       "      <td>622012.0</td>\n",
       "      <td>229790.0</td>\n",
       "      <td>405298.0</td>\n",
       "      <td>347188.0</td>\n",
       "      <td>286954.0</td>\n",
       "      <td>311560.0</td>\n",
       "      <td>433954.0</td>\n",
       "      <td>1218.0</td>\n",
       "      <td>0.0</td>\n",
       "      <td>0.0</td>\n",
       "    </tr>\n",
       "  </tbody>\n",
       "</table>\n",
       "<p>5 rows × 171 columns</p>\n",
       "</div>"
      ],
      "text/plain": [
       "  class  aa_000  ab_000        ac_000  ad_000  ae_000  af_000  ag_000  ag_001  \\\n",
       "0   neg   76698     NaN  2.130706e+09   280.0     0.0     0.0     0.0     0.0   \n",
       "1   neg   33058     NaN  0.000000e+00     NaN     0.0     0.0     0.0     0.0   \n",
       "2   neg   41040     NaN  2.280000e+02   100.0     0.0     0.0     0.0     0.0   \n",
       "3   neg      12     0.0  7.000000e+01    66.0     0.0    10.0     0.0     0.0   \n",
       "4   neg   60874     NaN  1.368000e+03   458.0     0.0     0.0     0.0     0.0   \n",
       "\n",
       "   ag_002   ...       ee_002    ee_003    ee_004    ee_005    ee_006  \\\n",
       "0     0.0   ...    1240520.0  493384.0  721044.0  469792.0  339156.0   \n",
       "1     0.0   ...     421400.0  178064.0  293306.0  245416.0  133654.0   \n",
       "2     0.0   ...     277378.0  159812.0  423992.0  409564.0  320746.0   \n",
       "3     0.0   ...        240.0      46.0      58.0      44.0      10.0   \n",
       "4     0.0   ...     622012.0  229790.0  405298.0  347188.0  286954.0   \n",
       "\n",
       "     ee_007    ee_008  ee_009  ef_000  eg_000  \n",
       "0  157956.0   73224.0     0.0     0.0     0.0  \n",
       "1   81140.0   97576.0  1500.0     0.0     0.0  \n",
       "2  158022.0   95128.0   514.0     0.0     0.0  \n",
       "3       0.0       0.0     0.0     4.0    32.0  \n",
       "4  311560.0  433954.0  1218.0     0.0     0.0  \n",
       "\n",
       "[5 rows x 171 columns]"
      ]
     },
     "execution_count": 36,
     "metadata": {},
     "output_type": "execute_result"
    }
   ],
   "source": [
    "print('df_train:',df_train.shape)\n",
    "df_train.head()"
   ]
  },
  {
   "cell_type": "code",
   "execution_count": 37,
   "metadata": {},
   "outputs": [],
   "source": [
    "#df_train[\"ee_002\"].hist()"
   ]
  },
  {
   "cell_type": "code",
   "execution_count": 38,
   "metadata": {},
   "outputs": [
    {
     "name": "stdout",
     "output_type": "stream",
     "text": [
      "df_test: (16000, 171)\n"
     ]
    },
    {
     "data": {
      "text/html": [
       "<div>\n",
       "<style scoped>\n",
       "    .dataframe tbody tr th:only-of-type {\n",
       "        vertical-align: middle;\n",
       "    }\n",
       "\n",
       "    .dataframe tbody tr th {\n",
       "        vertical-align: top;\n",
       "    }\n",
       "\n",
       "    .dataframe thead th {\n",
       "        text-align: right;\n",
       "    }\n",
       "</style>\n",
       "<table border=\"1\" class=\"dataframe\">\n",
       "  <thead>\n",
       "    <tr style=\"text-align: right;\">\n",
       "      <th></th>\n",
       "      <th>class</th>\n",
       "      <th>aa_000</th>\n",
       "      <th>ab_000</th>\n",
       "      <th>ac_000</th>\n",
       "      <th>ad_000</th>\n",
       "      <th>ae_000</th>\n",
       "      <th>af_000</th>\n",
       "      <th>ag_000</th>\n",
       "      <th>ag_001</th>\n",
       "      <th>ag_002</th>\n",
       "      <th>...</th>\n",
       "      <th>ee_002</th>\n",
       "      <th>ee_003</th>\n",
       "      <th>ee_004</th>\n",
       "      <th>ee_005</th>\n",
       "      <th>ee_006</th>\n",
       "      <th>ee_007</th>\n",
       "      <th>ee_008</th>\n",
       "      <th>ee_009</th>\n",
       "      <th>ef_000</th>\n",
       "      <th>eg_000</th>\n",
       "    </tr>\n",
       "  </thead>\n",
       "  <tbody>\n",
       "    <tr>\n",
       "      <th>0</th>\n",
       "      <td>neg</td>\n",
       "      <td>60</td>\n",
       "      <td>0.0</td>\n",
       "      <td>20.0</td>\n",
       "      <td>12.0</td>\n",
       "      <td>0.0</td>\n",
       "      <td>0.0</td>\n",
       "      <td>0.0</td>\n",
       "      <td>0.0</td>\n",
       "      <td>0.0</td>\n",
       "      <td>...</td>\n",
       "      <td>1098.0</td>\n",
       "      <td>138.0</td>\n",
       "      <td>412.0</td>\n",
       "      <td>654.0</td>\n",
       "      <td>78.0</td>\n",
       "      <td>88.0</td>\n",
       "      <td>0.0</td>\n",
       "      <td>0.0</td>\n",
       "      <td>0.0</td>\n",
       "      <td>0.0</td>\n",
       "    </tr>\n",
       "    <tr>\n",
       "      <th>1</th>\n",
       "      <td>neg</td>\n",
       "      <td>82</td>\n",
       "      <td>0.0</td>\n",
       "      <td>68.0</td>\n",
       "      <td>40.0</td>\n",
       "      <td>0.0</td>\n",
       "      <td>0.0</td>\n",
       "      <td>0.0</td>\n",
       "      <td>0.0</td>\n",
       "      <td>0.0</td>\n",
       "      <td>...</td>\n",
       "      <td>1068.0</td>\n",
       "      <td>276.0</td>\n",
       "      <td>1620.0</td>\n",
       "      <td>116.0</td>\n",
       "      <td>86.0</td>\n",
       "      <td>462.0</td>\n",
       "      <td>0.0</td>\n",
       "      <td>0.0</td>\n",
       "      <td>0.0</td>\n",
       "      <td>0.0</td>\n",
       "    </tr>\n",
       "    <tr>\n",
       "      <th>2</th>\n",
       "      <td>neg</td>\n",
       "      <td>66002</td>\n",
       "      <td>2.0</td>\n",
       "      <td>212.0</td>\n",
       "      <td>112.0</td>\n",
       "      <td>0.0</td>\n",
       "      <td>0.0</td>\n",
       "      <td>0.0</td>\n",
       "      <td>0.0</td>\n",
       "      <td>0.0</td>\n",
       "      <td>...</td>\n",
       "      <td>495076.0</td>\n",
       "      <td>380368.0</td>\n",
       "      <td>440134.0</td>\n",
       "      <td>269556.0</td>\n",
       "      <td>1315022.0</td>\n",
       "      <td>153680.0</td>\n",
       "      <td>516.0</td>\n",
       "      <td>0.0</td>\n",
       "      <td>0.0</td>\n",
       "      <td>0.0</td>\n",
       "    </tr>\n",
       "    <tr>\n",
       "      <th>3</th>\n",
       "      <td>neg</td>\n",
       "      <td>59816</td>\n",
       "      <td>NaN</td>\n",
       "      <td>1010.0</td>\n",
       "      <td>936.0</td>\n",
       "      <td>0.0</td>\n",
       "      <td>0.0</td>\n",
       "      <td>0.0</td>\n",
       "      <td>0.0</td>\n",
       "      <td>0.0</td>\n",
       "      <td>...</td>\n",
       "      <td>540820.0</td>\n",
       "      <td>243270.0</td>\n",
       "      <td>483302.0</td>\n",
       "      <td>485332.0</td>\n",
       "      <td>431376.0</td>\n",
       "      <td>210074.0</td>\n",
       "      <td>281662.0</td>\n",
       "      <td>3232.0</td>\n",
       "      <td>0.0</td>\n",
       "      <td>0.0</td>\n",
       "    </tr>\n",
       "    <tr>\n",
       "      <th>4</th>\n",
       "      <td>neg</td>\n",
       "      <td>1814</td>\n",
       "      <td>NaN</td>\n",
       "      <td>156.0</td>\n",
       "      <td>140.0</td>\n",
       "      <td>0.0</td>\n",
       "      <td>0.0</td>\n",
       "      <td>0.0</td>\n",
       "      <td>0.0</td>\n",
       "      <td>0.0</td>\n",
       "      <td>...</td>\n",
       "      <td>7646.0</td>\n",
       "      <td>4144.0</td>\n",
       "      <td>18466.0</td>\n",
       "      <td>49782.0</td>\n",
       "      <td>3176.0</td>\n",
       "      <td>482.0</td>\n",
       "      <td>76.0</td>\n",
       "      <td>0.0</td>\n",
       "      <td>0.0</td>\n",
       "      <td>0.0</td>\n",
       "    </tr>\n",
       "  </tbody>\n",
       "</table>\n",
       "<p>5 rows × 171 columns</p>\n",
       "</div>"
      ],
      "text/plain": [
       "  class  aa_000  ab_000  ac_000  ad_000  ae_000  af_000  ag_000  ag_001  \\\n",
       "0   neg      60     0.0    20.0    12.0     0.0     0.0     0.0     0.0   \n",
       "1   neg      82     0.0    68.0    40.0     0.0     0.0     0.0     0.0   \n",
       "2   neg   66002     2.0   212.0   112.0     0.0     0.0     0.0     0.0   \n",
       "3   neg   59816     NaN  1010.0   936.0     0.0     0.0     0.0     0.0   \n",
       "4   neg    1814     NaN   156.0   140.0     0.0     0.0     0.0     0.0   \n",
       "\n",
       "   ag_002   ...      ee_002    ee_003    ee_004    ee_005     ee_006  \\\n",
       "0     0.0   ...      1098.0     138.0     412.0     654.0       78.0   \n",
       "1     0.0   ...      1068.0     276.0    1620.0     116.0       86.0   \n",
       "2     0.0   ...    495076.0  380368.0  440134.0  269556.0  1315022.0   \n",
       "3     0.0   ...    540820.0  243270.0  483302.0  485332.0   431376.0   \n",
       "4     0.0   ...      7646.0    4144.0   18466.0   49782.0     3176.0   \n",
       "\n",
       "     ee_007    ee_008  ee_009  ef_000  eg_000  \n",
       "0      88.0       0.0     0.0     0.0     0.0  \n",
       "1     462.0       0.0     0.0     0.0     0.0  \n",
       "2  153680.0     516.0     0.0     0.0     0.0  \n",
       "3  210074.0  281662.0  3232.0     0.0     0.0  \n",
       "4     482.0      76.0     0.0     0.0     0.0  \n",
       "\n",
       "[5 rows x 171 columns]"
      ]
     },
     "execution_count": 38,
     "metadata": {},
     "output_type": "execute_result"
    }
   ],
   "source": [
    "print('df_test:',df_test.shape)\n",
    "df_test.head()"
   ]
  },
  {
   "cell_type": "code",
   "execution_count": 39,
   "metadata": {},
   "outputs": [],
   "source": [
    "feature_columns = df_train.drop(columns=['class']).columns.values\n",
    "df_train[feature_columns]=df_train[feature_columns].fillna(df_train.mean())\n",
    "df_test[feature_columns]=df_test[feature_columns].fillna(df_test.mean())\n",
    "#df_train[feature_columns].isnull()"
   ]
  },
  {
   "cell_type": "code",
   "execution_count": 40,
   "metadata": {},
   "outputs": [
    {
     "name": "stdout",
     "output_type": "stream",
     "text": [
      "df_train target:\n",
      "1    59000\n",
      "0     1000\n",
      "Name: target, dtype: int64\n",
      "df_test target:\n",
      "1    15625\n",
      "0      375\n",
      "Name: target, dtype: int64\n"
     ]
    },
    {
     "data": {
      "text/plain": [
       "(None, None)"
      ]
     },
     "execution_count": 40,
     "metadata": {},
     "output_type": "execute_result"
    }
   ],
   "source": [
    "#filtered_data.fillna(filtered__data.mean()).dropna(axis=1, how='all')\n",
    "df_train['target'] = df_train['class'].replace ({'neg':1, 'pos':0})\n",
    "df_test['target'] = df_test['class'].replace ({'neg':1, 'pos':0})\n",
    "print( 'df_train target:'), print(df_train['target'].value_counts())\n",
    "print( 'df_test target:'), print(df_test['target'].value_counts())"
   ]
  },
  {
   "cell_type": "code",
   "execution_count": 41,
   "metadata": {},
   "outputs": [
    {
     "name": "stdout",
     "output_type": "stream",
     "text": [
      "X_train: (54000, 170)\n",
      "y_train: (54000,)\n",
      "X_val: (6000, 170)\n",
      "y_val: (6000,)\n"
     ]
    }
   ],
   "source": [
    "from sklearn.model_selection import train_test_split\n",
    "\n",
    "X = df_train[feature_columns]\n",
    "y = df_train['target']\n",
    "\n",
    "X_train, X_val, y_train, y_val = train_test_split(X,y,test_size=0.1)\n",
    "print('X_train:', X_train.shape); print('y_train:', y_train.shape)\n",
    "print('X_val:', X_val.shape); print('y_val:', y_val.shape)\n"
   ]
  },
  {
   "cell_type": "code",
   "execution_count": 42,
   "metadata": {},
   "outputs": [],
   "source": [
    "from sklearn.preprocessing import StandardScaler\n",
    "from sklearn.decomposition import PCA\n",
    "\n",
    "scaler = StandardScaler().fit(X_train)\n",
    "X_train_scaled = scaler.transform(X_train)\n",
    "\n",
    "pca = PCA().fit(X_train_scaled)\n",
    "pca_loadings = pca.components_\n",
    "pca_scores = pca.transform(X_train_scaled)\n",
    "\n",
    "assert np.isclose(X_train_scaled, pca_scores @ pca_loadings).all(), 'Error al calcular pca_scores o pca_loadings'"
   ]
  },
  {
   "cell_type": "code",
   "execution_count": 43,
   "metadata": {},
   "outputs": [
    {
     "data": {
      "image/png": "[encoded data removed]",
      "text/plain": [
       "<matplotlib.figure.Figure at 0x206a1465240>"
      ]
     },
     "metadata": {},
     "output_type": "display_data"
    }
   ],
   "source": [
    "def plot_pca_exp_var(pca_exp_var):\n",
    "    num_components = pca_exp_var.shape[0]\n",
    "    indices = range(1, num_components + 1)\n",
    "    plt.figure(figsize=(20,5))\n",
    "    plt.plot(indices, pca_exp_var, '-s')\n",
    "    plt.ylabel('Proporción de Varianza Explicada %')\n",
    "    plt.xlabel('Componente Principal')\n",
    "    plt.xlim(0.75,4.25)\n",
    "    plt.ylim(0,15.05)\n",
    "    plt.xticks(indices)\n",
    "    plt.show()\n",
    "    \n",
    "pca_exp_var = pca.explained_variance_\n",
    "plot_pca_exp_var(pca.explained_variance_)"
   ]
  },
  {
   "cell_type": "code",
   "execution_count": 44,
   "metadata": {},
   "outputs": [
    {
     "data": {
      "image/png": "[encoded data removed]",
      "text/plain": [
       "<matplotlib.figure.Figure at 0x2069445d630>"
      ]
     },
     "metadata": {},
     "output_type": "display_data"
    }
   ],
   "source": [
    "def plot_pca_cum_var(pca_cum_var):\n",
    "    num_components = pca_cum_var.shape[0]\n",
    "    indices = range(1, num_components + 1)\n",
    "    plt.figure(figsize=(20,5))\n",
    "    plt.plot(indices, pca_cum_var, '-s')\n",
    "    plt.ylabel('Proporción Acumulada de Varianza Explicada')\n",
    "    plt.xlabel('Componente Principal')\n",
    "    plt.xlim(0.75,4.25)\n",
    "    plt.ylim(0,1.05)\n",
    "    plt.xticks(indices)\n",
    "    plt.show()\n",
    "    \n",
    "PVE = pca.explained_variance_ratio_\n",
    "pca_cum_var = np.cumsum(PVE)\n",
    "plot_pca_cum_var(pca_cum_var)\n"
   ]
  },
  {
   "cell_type": "code",
   "execution_count": 45,
   "metadata": {},
   "outputs": [
    {
     "name": "stdout",
     "output_type": "stream",
     "text": [
      "PVE acumulada de los primeros 110 componentes principales: 0.9883\n"
     ]
    }
   ],
   "source": [
    "# parte de la estrategia de reducción de dimensionalidad se resolveria con tomar las primeras 110 clases\n",
    "print('PVE acumulada de los primeros 110 componentes principales: %.4f' % pca_cum_var[110] )"
   ]
  },
  {
   "cell_type": "code",
   "execution_count": 46,
   "metadata": {},
   "outputs": [
    {
     "data": {
      "text/plain": [
       "LogisticRegression(C=1.0, class_weight=None, dual=False, fit_intercept=True,\n",
       "          intercept_scaling=1, max_iter=100, multi_class='ovr', n_jobs=1,\n",
       "          penalty='l2', random_state=None, solver='liblinear', tol=0.0001,\n",
       "          verbose=0, warm_start=False)"
      ]
     },
     "execution_count": 46,
     "metadata": {},
     "output_type": "execute_result"
    }
   ],
   "source": [
    "from sklearn.linear_model import LogisticRegression\n",
    "modelo = LogisticRegression()\n",
    "modelo.fit(X_train, y_train)\n",
    "\n",
    "# se debe estavlecer sistema de optimización para reducción de Falsos negativos, ya sea por sistemas de pesos o por aumento de la probabilidad de aciertos en True negative\n"
   ]
  },
  {
   "cell_type": "code",
   "execution_count": 47,
   "metadata": {},
   "outputs": [
    {
     "data": {
      "text/plain": [
       "array([0.76434521, 0.59648756, 0.59403433, ..., 0.59544387, 0.78281924,\n",
       "       0.61965591])"
      ]
     },
     "execution_count": 47,
     "metadata": {},
     "output_type": "execute_result"
    }
   ],
   "source": [
    "#probabilidad de que cada una de las observaciones de conjunto de * validación* corresponda a la clase positiva (diagnóstico maligno).\n",
    "probabilidades_val = modelo.predict_proba(X_val)[:,1]\n",
    "probabilidades_val"
   ]
  },
  {
   "cell_type": "code",
   "execution_count": 62,
   "metadata": {},
   "outputs": [
    {
     "name": "stdout",
     "output_type": "stream",
     "text": [
      "Predicciones correctas :  5911\n",
      "Número de muestras     :  6000\n",
      "Exactitud (manual)     :  0.9851666666666666\n"
     ]
    }
   ],
   "source": [
    "from sklearn import metrics\n",
    "\n",
    "predicciones_val = modelo.predict(X_val)\n",
    "num_predicciones_correctas = (y_val == predicciones_val).sum()\n",
    "num_total_de_muestras = len(y_val)\n",
    "exactitud = num_predicciones_correctas / num_total_de_muestras\n",
    "\n",
    "print ( 'Predicciones correctas : ', num_predicciones_correctas )\n",
    "print ( 'Número de muestras     : ', num_total_de_muestras )\n",
    "print ( 'Exactitud (manual)     : ', exactitud )"
   ]
  },
  {
   "cell_type": "code",
   "execution_count": 65,
   "metadata": {},
   "outputs": [],
   "source": [
    "from sklearn.metrics import confusion_matrix\n",
    "def print_binary_confusion_matrix(matrix):    \n",
    "    TN = matrix[0,0]\n",
    "    FN = matrix[1,0]\n",
    "    FP = matrix[0,1]\n",
    "    TP = matrix[1,1]\n",
    "\n",
    "    print ('              +-----------------+')\n",
    "    print ('              |   Predicción    |')\n",
    "    print ('              +-----------------+')\n",
    "    print ('              |    +   |    -   |')\n",
    "    print ('+-------+-----+--------+--------+')\n",
    "    print ('| Valor |  +  |  {:5d} |  {:5d} |'.format(TP, FN) )\n",
    "    print ('| real  +-----+--------+--------+')\n",
    "    print ('|       |  -  |  {:5d} |  {:5d} |'.format(FP, TN) )\n",
    "    print ('+-------+-----+--------+--------+')"
   ]
  },
  {
   "cell_type": "code",
   "execution_count": 66,
   "metadata": {},
   "outputs": [
    {
     "name": "stdout",
     "output_type": "stream",
     "text": [
      "              +-----------------+\n",
      "              |   Predicción    |\n",
      "              +-----------------+\n",
      "              |    +   |    -   |\n",
      "+-------+-----+--------+--------+\n",
      "| Valor |  +  |   5891 |     10 |\n",
      "| real  +-----+--------+--------+\n",
      "|       |  -  |     79 |     20 |\n",
      "+-------+-----+--------+--------+\n",
      "Exactitud en el conjunto de validación     : 0.985\n",
      "Precisión en el conjunto de validación     : 0.987\n",
      "Exhaustividad en el conjunto de validación : 0.998\n"
     ]
    }
   ],
   "source": [
    "predecido = predicciones_val\n",
    "matriz = confusion_matrix (y_val, predecido)\n",
    "\n",
    "accuracy_val = metrics.accuracy_score(y_val, predecido)\n",
    "precision_val = metrics.precision_score (y_val, predecido)\n",
    "recall_val = metrics.recall_score (y_val, predecido)\n",
    "\n",
    "print_binary_confusion_matrix(matriz)\n",
    "print('Exactitud en el conjunto de validación     : {:.3f}'.format(accuracy_val))\n",
    "print('Precisión en el conjunto de validación     : {:.3f}'.format(precision_val))\n",
    "print('Exhaustividad en el conjunto de validación : {:.3f}'.format(recall_val))"
   ]
  },
  {
   "cell_type": "code",
   "execution_count": 68,
   "metadata": {},
   "outputs": [
    {
     "name": "stdout",
     "output_type": "stream",
     "text": [
      "Predicciones correctas :  15642\n",
      "Número de muestras     :  16000\n",
      "Exactitud (manual)     :  0.977625\n",
      "Exactitud (score)      :  0.977625\n",
      "Exactitud (metrics)    :  0.977625\n"
     ]
    }
   ],
   "source": [
    "X_test = df_test[feature_columns]\n",
    "y_test = df_test['target']\n",
    "\n",
    "predicciones_test = modelo.predict(X_test)\n",
    "num_predicciones_correctas = (y_test == predicciones_test).sum()\n",
    "num_total_de_muestras = len(y_test)\n",
    "exactitud = num_predicciones_correctas / num_total_de_muestras\n",
    "\n",
    "print ( 'Predicciones correctas : ', num_predicciones_correctas )\n",
    "print ( 'Número de muestras     : ', num_total_de_muestras )\n",
    "print ( 'Exactitud (manual)     : ', exactitud )\n",
    "print ( 'Exactitud (score)      : ', modelo.score(X_test, y_test) )\n",
    "print ( 'Exactitud (metrics)    : ', metrics.accuracy_score(y_test, predicciones_test) )"
   ]
  },
  {
   "cell_type": "code",
   "execution_count": 70,
   "metadata": {},
   "outputs": [
    {
     "data": {
      "text/plain": [
       "array([0.59316594, 0.59383985, 0.79957624, ..., 0.82616298, 0.5939959 ,\n",
       "       0.59296031])"
      ]
     },
     "execution_count": 70,
     "metadata": {},
     "output_type": "execute_result"
    }
   ],
   "source": [
    "probabilidades_val = modelo.predict_proba(X_test)[:,1]\n",
    "probabilidades_val"
   ]
  },
  {
   "cell_type": "code",
   "execution_count": null,
   "metadata": {},
   "outputs": [],
   "source": [
    "def print_binary_confusion_matrix(matrix):    \n",
    "    TN = matrix[0,0]\n",
    "    FN = matrix[1,0]\n",
    "    FP = matrix[0,1]\n",
    "    TP = matrix[1,1]\n",
    "\n",
    "    print ('              +-----------------+')\n",
    "    print ('              |   Predicción    |')\n",
    "    print ('              +-----------------+')\n",
    "    print ('              |    +   |    -   |')\n",
    "    print ('+-------+-----+--------+--------+')\n",
    "    print ('| Valor |  +  |  {:5d} |  {:5d} |'.format(TP, FN) )\n",
    "    print ('| real  +-----+--------+--------+')\n",
    "    print ('|       |  -  |  {:5d} |  {:5d} |'.format(FP, TN) )\n",
    "    print ('+-------+-----+--------+--------+')"
   ]
  },
  {
   "cell_type": "markdown",
   "metadata": {},
   "source": [
    "Predicciones en el conjunto de validación con un umbral de probabilidad `> 0.7`, indicando a continuación la matriz de confusión, la exactitud, precisión, exhaustividad de las predicciones. Se provee la función `print_binary_confusion_matrix` para mostrar la matriz de confusión"
   ]
  },
  {
   "cell_type": "code",
   "execution_count": 60,
   "metadata": {},
   "outputs": [],
   "source": [
    "from sklearn import metrics\n",
    "accuracy_val = metrics.accuracy_score(y_val, predecido)"
   ]
  },
  {
   "cell_type": "code",
   "execution_count": 77,
   "metadata": {},
   "outputs": [],
   "source": [
    "def print_binary_confusion_matrix(matrix):    \n",
    "    TN = matrix[0,0]\n",
    "    FN = matrix[1,0]\n",
    "    FP = matrix[0,1]\n",
    "    TP = matrix[1,1]\n",
    "\n",
    "    print ('              +-----------------+')\n",
    "    print ('              |   Predicción    |')\n",
    "    print ('              +-----------------+')\n",
    "    print ('              |    +   |    -   |')\n",
    "    print ('+-------+-----+--------+--------+')\n",
    "    print ('| Valor |  +  |  {:5d} |  {:5d} |'.format(TP, FN) )\n",
    "    print ('| real  +-----+--------+--------+')\n",
    "    print ('|       |  -  |  {:5d} |  {:5d} |'.format(FP, TN) )\n",
    "    print ('+-------+-----+--------+--------+')"
   ]
  },
  {
   "cell_type": "code",
   "execution_count": 78,
   "metadata": {},
   "outputs": [
    {
     "name": "stdout",
     "output_type": "stream",
     "text": [
      "              +-----------------+\n",
      "              |   Predicción    |\n",
      "              +-----------------+\n",
      "              |    +   |    -   |\n",
      "+-------+-----+--------+--------+\n",
      "| Valor |  +  |  15590 |     35 |\n",
      "| real  +-----+--------+--------+\n",
      "|       |  -  |    323 |     52 |\n",
      "+-------+-----+--------+--------+\n",
      "Exactitud en el conjunto de validación     : 0.978\n",
      "Precisión en el conjunto de validación     : 0.980\n",
      "Exhaustividad en el conjunto de validación : 0.998\n"
     ]
    }
   ],
   "source": [
    "# Afinar el modelo para obtener menor número de Falsos Negativos.\n",
    "# Hay que probar con balanceo de datos\n",
    "\n",
    "predecido = predicciones_test\n",
    "\n",
    "matriz = confusion_matrix (y_test, predecido)\n",
    "\n",
    "accuracy_val = metrics.accuracy_score(y_test, predecido)\n",
    "precision_val = metrics.precision_score (y_test, predecido)\n",
    "recall_val = metrics.recall_score (y_test, predecido)\n",
    "\n",
    "print_binary_confusion_matrix(matriz)\n",
    "print('Exactitud en el conjunto de validación     : {:.3f}'.format(accuracy_val))\n",
    "print('Precisión en el conjunto de validación     : {:.3f}'.format(precision_val))\n",
    "print('Exhaustividad en el conjunto de validación : {:.3f}'.format(recall_val))"
   ]
  },
  {
   "cell_type": "code",
   "execution_count": 87,
   "metadata": {},
   "outputs": [
    {
     "name": "stdout",
     "output_type": "stream",
     "text": [
      "Total Cost:  20730 323 35\n"
     ]
    }
   ],
   "source": [
    "#Costo de Pronostico (Santosh)\n",
    "\n",
    "U_check = 10 #cost that an unnecessary check\n",
    "M_check = 500 # cost of missing a faulty truck\n",
    "\n",
    "FP = ((predicciones_test > 0) & (y_test == 0)).sum()\n",
    "FN = ((predicciones_test <= 0) & (y_test == 1)).sum()\n",
    "\n",
    "Total_Cost = FP*U_check + FN*M_check\n",
    "print('Total Cost: ', Total_Cost, Cost_1,  Cost_2)"
   ]
  },
  {
   "cell_type": "code",
   "execution_count": null,
   "metadata": {},
   "outputs": [],
   "source": []
  }
 ],
 "metadata": {
  "kernelspec": {
   "display_name": "Python 3",
   "language": "python",
   "name": "python3"
  },
  "language_info": {
   "codemirror_mode": {
    "name": "ipython",
    "version": 3
   },
   "file_extension": ".py",
   "mimetype": "text/x-python",
   "name": "python",
   "nbconvert_exporter": "python",
   "pygments_lexer": "ipython3",
   "version": "3.6.4"
  }
 },
 "nbformat": 4,
 "nbformat_minor": 2
}
