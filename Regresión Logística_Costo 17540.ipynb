{
 "cells": [
  {
   "cell_type": "markdown",
   "metadata": {},
   "source": [
    "Scania_Failures  Mediante Logistic Regression\n",
    "Codigo E.Parodi"
   ]
  },
  {
   "cell_type": "code",
   "execution_count": 1,
   "metadata": {},
   "outputs": [],
   "source": [
    "import numpy as np\n",
    "import pandas as pd\n",
    "import matplotlib.pyplot as plt\n",
    "from sklearn.model_selection import train_test_split\n",
    "%matplotlib inline"
   ]
  },
  {
   "cell_type": "code",
   "execution_count": 2,
   "metadata": {},
   "outputs": [],
   "source": [
    "df_train = pd.read_csv('Data Set/aps_failure_training_set.csv',na_values='na')\n",
    "df_test = pd.read_csv('Data Set/aps_failure_test_set.csv', na_values='na')"
   ]
  },
  {
   "cell_type": "code",
   "execution_count": 3,
   "metadata": {},
   "outputs": [],
   "source": [
    "feature_columns = df_train.drop(columns=['class']).columns.values\n",
    "df_train[feature_columns]=df_train[feature_columns].fillna(df_train.mean())\n",
    "df_test[feature_columns]=df_test[feature_columns].fillna(df_test.mean())"
   ]
  },
  {
   "cell_type": "code",
   "execution_count": 4,
   "metadata": {},
   "outputs": [
    {
     "name": "stdout",
     "output_type": "stream",
     "text": [
      "df_train target:\n",
      "-1    59000\n",
      " 1     1000\n",
      "Name: target, dtype: int64\n"
     ]
    },
    {
     "data": {
      "text/plain": [
       "(None, None)"
      ]
     },
     "execution_count": 4,
     "metadata": {},
     "output_type": "execute_result"
    }
   ],
   "source": [
    "df_train['target'] = df_train['class'].replace ({'neg':-1, 'pos':1})\n",
    "df_test['target'] = df_test['class'].replace ({'neg':-1, 'pos':1})\n",
    "print( 'df_train target:'), print(df_train['target'].value_counts())"
   ]
  },
  {
   "cell_type": "code",
   "execution_count": 5,
   "metadata": {},
   "outputs": [],
   "source": [
    "from sklearn.model_selection import train_test_split\n",
    "X = df_train[feature_columns]\n",
    "y = df_train['target']\n",
    "X_train, X_val, y_train, y_val = train_test_split(X,y,test_size=0.1)"
   ]
  },
  {
   "cell_type": "code",
   "execution_count": 6,
   "metadata": {},
   "outputs": [],
   "source": [
    "# Costo de Chequeo innecesario = 10\n",
    "# Costo de Perder un chequeo por falla = 500\n",
    "# El costo promedio de pronosticar todos los valores como negativos (0) sería de: 500 x 1,000/60,000 = 8.33 (Gondek et all)\n",
    "# El costo promedio de pronosticar todos los valores como positivos (1) sería de: 10 x 59,000/60,000 = 9.83 (Gondek et all)\n"
   ]
  },
  {
   "cell_type": "code",
   "execution_count": 177,
   "metadata": {},
   "outputs": [
    {
     "data": {
      "text/plain": [
       "LogisticRegression(C=1, class_weight={-1: 1, 1: 59}, dual=False,\n",
       "          fit_intercept=True, intercept_scaling=1, max_iter=100,\n",
       "          multi_class='ovr', n_jobs=1, penalty='l2', random_state=None,\n",
       "          solver='liblinear', tol=0.0001, verbose=0, warm_start=False)"
      ]
     },
     "execution_count": 177,
     "metadata": {},
     "output_type": "execute_result"
    }
   ],
   "source": [
    "from sklearn.linear_model import LogisticRegression\n",
    "modelo = LogisticRegression(C=1, class_weight={-1:1, 1:59})\n",
    "modelo.fit(X_train, y_train)"
   ]
  },
  {
   "cell_type": "code",
   "execution_count": 201,
   "metadata": {},
   "outputs": [],
   "source": [
    "probabilidades_val = modelo.predict_proba(X_val)\n",
    "predicciones_val = np.where(probabilidades_val[:,1] > 0.37, +1, -1) "
   ]
  },
  {
   "cell_type": "code",
   "execution_count": 202,
   "metadata": {},
   "outputs": [
    {
     "name": "stdout",
     "output_type": "stream",
     "text": [
      "[[5680  211]\n",
      " [   6  103]]\n",
      "Exactitud en el conjunto de validación     : 0.964\n",
      "Precisión en el conjunto de validación     : 0.328\n",
      "Exhaustividad en el conjunto de validación : 0.945\n",
      "Costo promedio: 0.8516666666666667\n"
     ]
    }
   ],
   "source": [
    "from sklearn import metrics\n",
    "from sklearn.metrics import confusion_matrix\n",
    "\n",
    "matriz_confusion = metrics.confusion_matrix(y_val, predicciones_val)\n",
    "predecido = predicciones_val\n",
    "\n",
    "TN = matriz_confusion[0,0]\n",
    "FN = matriz_confusion[1,0]\n",
    "FP = matriz_confusion[0,1]\n",
    "TP = matriz_confusion[1,1]\n",
    "\n",
    "accuracy_val = metrics.accuracy_score(y_val, predecido)\n",
    "precision_val = metrics.precision_score (y_val, predecido)\n",
    "recall_val = metrics.recall_score (y_val, predecido)\n",
    "\n",
    "print(matriz_confusion)\n",
    "\n",
    "print('Exactitud en el conjunto de validación     : {:.3f}'.format(accuracy_val))\n",
    "print('Precisión en el conjunto de validación     : {:.3f}'.format(precision_val))\n",
    "print('Exhaustividad en el conjunto de validación : {:.3f}'.format(recall_val))\n",
    "print('Costo promedio:', (FP*10+FN*500)/6000)"
   ]
  },
  {
   "cell_type": "code",
   "execution_count": 195,
   "metadata": {},
   "outputs": [
    {
     "data": {
      "text/plain": [
       "<matplotlib.legend.Legend at 0x27c32baada0>"
      ]
     },
     "execution_count": 195,
     "metadata": {},
     "output_type": "execute_result"
    },
    {
     "data": {
      "image/png": "[encoded data removed]",
      "text/plain": [
       "<matplotlib.figure.Figure at 0x27c32baafd0>"
      ]
     },
     "metadata": {},
     "output_type": "display_data"
    }
   ],
   "source": [
    "# Código de ejemplo de clase\n",
    "fpr, tpr, umbrales = metrics.roc_curve(y_val, probabilidades_val[:,1])\n",
    "auc_roc = metrics.roc_auc_score(y_val, probabilidades_val[:,1])\n",
    "\n",
    "plt.rcParams.update({'font.size': 9})\n",
    "plt.plot(fpr, tpr, label= (\"Curva ROC\") )\n",
    "plt.xlabel(\"FPR\")\n",
    "plt.ylabel(\"TPR (exhaustividad)\")\n",
    "plt.title((\"Curva ROC (AUC = %.4f)\" % auc_roc))\n",
    "\n",
    "# ubicamos el punto más cercano a 0.5\n",
    "umbral_04 = np.argmin(np.abs(umbrales - 0.4))\n",
    "plt.plot(fpr[umbral_04], tpr[umbral_04], 'o', markersize=10,\n",
    "         label=\"Umbral 0.4\", fillstyle=\"none\", c='r', mew=2)\n",
    "plt.legend(loc='best', numpoints = 1)"
   ]
  },
  {
   "cell_type": "code",
   "execution_count": 196,
   "metadata": {},
   "outputs": [
    {
     "data": {
      "text/plain": [
       "<matplotlib.legend.Legend at 0x27c27855160>"
      ]
     },
     "execution_count": 196,
     "metadata": {},
     "output_type": "execute_result"
    },
    {
     "data": {
      "image/png": "[encoded data removed]",
      "text/plain": [
       "<matplotlib.figure.Figure at 0x27c2744fc88>"
      ]
     },
     "metadata": {},
     "output_type": "display_data"
    }
   ],
   "source": [
    "precision, exhaustividad, umbrales = metrics.precision_recall_curve(y_val, probabilidades_val[:,1])\n",
    "precision_media = metrics.average_precision_score(y_val, probabilidades_val[:,1])\n",
    "\n",
    "plt.plot(precision, exhaustividad, label= (\"Curva de Precisión-Exhaustividad\"), c='m' )\n",
    "plt.xlabel(\"Precisión\")\n",
    "plt.ylabel(\"Exhaustividad\")\n",
    "plt.title((\"Curva de Precisión-Exhaustividad (Precisión media = %.4f)\" % precision_media))\n",
    "\n",
    "umbral_04 = np.argmin(np.abs(umbrales - 0.4))\n",
    "plt.plot(precision[umbral_04], exhaustividad[umbral_04], 'o', markersize=10,\n",
    "         label=\"Umbral 0.4\", fillstyle=\"none\", c='r', mew=2)\n",
    "\n",
    "umbral_05 = np.argmin(np.abs(umbrales - 0.5))\n",
    "plt.plot(precision[umbral_05], exhaustividad[umbral_05], 'o', markersize=10,\n",
    "         label=\"Umbral 0.5\", fillstyle=\"none\", c='y', mew=2)\n",
    "\n",
    "umbral_092 = np.argmin(np.abs(umbrales - 0.92))\n",
    "plt.plot(precision[umbral_092], exhaustividad[umbral_092], 'o', markersize=10,\n",
    "         label=\"Umbral 0.92\", fillstyle=\"none\", c='g', mew=2)\n",
    "\n",
    "umbral_095 = np.argmin(np.abs(umbrales - 0.95))\n",
    "plt.plot(precision[umbral_095], exhaustividad[umbral_095], 'o', markersize=10,\n",
    "         label=\"Umbral 0.95\", fillstyle=\"none\", c='b', mew=2)\n",
    "\n",
    "plt.gca().set_xlim([0,1])\n",
    "plt.gca().set_ylim([0,1])\n",
    "plt.legend(loc='best', numpoints = 1)"
   ]
  },
  {
   "cell_type": "code",
   "execution_count": 197,
   "metadata": {},
   "outputs": [
    {
     "data": {
      "text/html": [
       "<div>\n",
       "<style scoped>\n",
       "    .dataframe tbody tr th:only-of-type {\n",
       "        vertical-align: middle;\n",
       "    }\n",
       "\n",
       "    .dataframe tbody tr th {\n",
       "        vertical-align: top;\n",
       "    }\n",
       "\n",
       "    .dataframe thead th {\n",
       "        text-align: right;\n",
       "    }\n",
       "</style>\n",
       "<table border=\"1\" class=\"dataframe\">\n",
       "  <thead>\n",
       "    <tr style=\"text-align: right;\">\n",
       "      <th></th>\n",
       "      <th>Exhaustividad</th>\n",
       "      <th>Precisión</th>\n",
       "      <th>Umbrales</th>\n",
       "    </tr>\n",
       "  </thead>\n",
       "  <tbody>\n",
       "    <tr>\n",
       "      <th>5585</th>\n",
       "      <td>0.944954</td>\n",
       "      <td>0.300292</td>\n",
       "      <td>0.299763</td>\n",
       "    </tr>\n",
       "    <tr>\n",
       "      <th>5586</th>\n",
       "      <td>0.944954</td>\n",
       "      <td>0.301170</td>\n",
       "      <td>0.301249</td>\n",
       "    </tr>\n",
       "    <tr>\n",
       "      <th>5587</th>\n",
       "      <td>0.944954</td>\n",
       "      <td>0.302053</td>\n",
       "      <td>0.301312</td>\n",
       "    </tr>\n",
       "    <tr>\n",
       "      <th>5588</th>\n",
       "      <td>0.944954</td>\n",
       "      <td>0.302941</td>\n",
       "      <td>0.302431</td>\n",
       "    </tr>\n",
       "    <tr>\n",
       "      <th>5589</th>\n",
       "      <td>0.944954</td>\n",
       "      <td>0.303835</td>\n",
       "      <td>0.307911</td>\n",
       "    </tr>\n",
       "  </tbody>\n",
       "</table>\n",
       "</div>"
      ],
      "text/plain": [
       "      Exhaustividad  Precisión  Umbrales\n",
       "5585       0.944954   0.300292  0.299763\n",
       "5586       0.944954   0.301170  0.301249\n",
       "5587       0.944954   0.302053  0.301312\n",
       "5588       0.944954   0.302941  0.302431\n",
       "5589       0.944954   0.303835  0.307911"
      ]
     },
     "execution_count": 197,
     "metadata": {},
     "output_type": "execute_result"
    }
   ],
   "source": [
    "umbrales_precision_exhaustividad = pd.DataFrame({ \n",
    "        'Exhaustividad' : exhaustividad,\n",
    "        'Precisión' : precision,\n",
    "        'Umbrales' : np.append(umbrales, 1) # El último umbral es siempre 1\n",
    "    })\n",
    "\n",
    "umbrales_precision_exhaustividad[umbrales_precision_exhaustividad['Precisión'] >= .30].head()"
   ]
  },
  {
   "cell_type": "code",
   "execution_count": 198,
   "metadata": {},
   "outputs": [],
   "source": [
    "X_test = df_test[feature_columns]\n",
    "y_test = df_test['target']"
   ]
  },
  {
   "cell_type": "code",
   "execution_count": 203,
   "metadata": {},
   "outputs": [],
   "source": [
    "probabilidades_test = modelo.predict_proba(X_test)\n",
    "predicciones_test = np.where(probabilidades_test[:,1] > 0.37, +1, -1) "
   ]
  },
  {
   "cell_type": "code",
   "execution_count": 205,
   "metadata": {},
   "outputs": [
    {
     "name": "stdout",
     "output_type": "stream",
     "text": [
      "[[15221   404]\n",
      " [   27   348]]\n",
      "Exactitud en el conjunto de prueba     : 0.973\n",
      "Precisión en el conjunto de prueba     : 0.463\n",
      "Exhaustividad en el conjunto de prueba : 0.928\n",
      "15221 27 404 348\n",
      "Costo promedio: 2.9233333333333333\n",
      "Costo total: 17540\n"
     ]
    }
   ],
   "source": [
    "matriz_confusion = metrics.confusion_matrix(y_test, predicciones_test)\n",
    "predecido = predicciones_test\n",
    "\n",
    "accuracy_test = metrics.accuracy_score(y_test, predecido)\n",
    "precision_test = metrics.precision_score (y_test, predecido)\n",
    "recall_test = metrics.recall_score (y_test, predecido)\n",
    "\n",
    "TN = matriz_confusion[0,0]\n",
    "FN = matriz_confusion[1,0]\n",
    "FP = matriz_confusion[0,1]\n",
    "TP = matriz_confusion[1,1]\n",
    "\n",
    "print(matriz_confusion)\n",
    "\n",
    "print('Exactitud en el conjunto de prueba     : {:.3f}'.format(accuracy_test))\n",
    "print('Precisión en el conjunto de prueba     : {:.3f}'.format(precision_test))\n",
    "print('Exhaustividad en el conjunto de prueba : {:.3f}'.format(recall_test))\n",
    "print(TN,FN,FP,TP)\n",
    "print('Costo promedio:', (FP*10+FN*500)/6000)\n",
    "print('Costo total:', (FP*10+FN*500))"
   ]
  },
  {
   "cell_type": "code",
   "execution_count": null,
   "metadata": {},
   "outputs": [],
   "source": [
    "#Para un Umbral de 0.37 y C=1 , se logran los menores costos para el conjunto de validación que es de 0.84 promedio\n",
    "# sin embargo, esto no se refleja en el conjunto de prueba cuyo costo promedio es de 2.92, por lo que estimo que el\n",
    "#resultado podría mejorarse hasta un costo total de 6000 aprox.\n"
   ]
  },
  {
   "cell_type": "code",
   "execution_count": null,
   "metadata": {},
   "outputs": [],
   "source": []
  }
 ],
 "metadata": {
  "kernelspec": {
   "display_name": "Python 3",
   "language": "python",
   "name": "python3"
  },
  "language_info": {
   "codemirror_mode": {
    "name": "ipython",
    "version": 3
   },
   "file_extension": ".py",
   "mimetype": "text/x-python",
   "name": "python",
   "nbconvert_exporter": "python",
   "pygments_lexer": "ipython3",
   "version": "3.6.4"
  }
 },
 "nbformat": 4,
 "nbformat_minor": 2
}
