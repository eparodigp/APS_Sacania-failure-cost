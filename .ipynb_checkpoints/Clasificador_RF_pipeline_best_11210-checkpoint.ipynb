{
 "cells": [
  {
   "cell_type": "markdown",
   "metadata": {
    "_cell_guid": "83c467f2-3fc7-4aa5-ba85-c50763630376",
    "_uuid": "4acb1896eaffc176e53cf4e16350b96a503e8b10"
   },
   "source": [
    "## Setup"
   ]
  },
  {
   "cell_type": "code",
   "execution_count": 1,
   "metadata": {
    "_cell_guid": "0a883ac9-5b27-4a12-9c53-fac5669647fe",
    "_uuid": "82041574cced9a4277e0f911db5b86fb5a335374"
   },
   "outputs": [],
   "source": [
    "import pandas as pd\n",
    "import numpy as np\n",
    "import matplotlib.pyplot as plt\n",
    "import seaborn as sns\n",
    "import warnings\n",
    "from IPython.display import display, Markdown\n",
    "from sklearn.feature_selection import SelectKBest, chi2, mutual_info_classif, f_classif\n",
    "from sklearn.preprocessing import MinMaxScaler\n",
    "from sklearn.decomposition import PCA\n",
    "from sklearn.ensemble import RandomForestClassifier, RandomForestRegressor\n",
    "from sklearn.metrics import classification_report, confusion_matrix, make_scorer, f1_score, recall_score\n",
    "from sklearn.model_selection import GridSearchCV\n",
    "from sklearn.pipeline import Pipeline\n",
    "from sklearn import ensemble\n",
    "from sklearn.preprocessing import Imputer\n",
    "%matplotlib inline\n",
    "%config IPCompleter.greedy=True\n",
    "warnings.filterwarnings('ignore')\n",
    "sns.set()"
   ]
  },
  {
   "cell_type": "markdown",
   "metadata": {},
   "source": [
    "### Descargar datos de \n",
    "https://www.kaggle.com/uciml/aps-failure-at-scania-trucks-data-set/data"
   ]
  },
  {
   "cell_type": "markdown",
   "metadata": {
    "_cell_guid": "720b43ac-255a-43d4-ab48-64f6672eead6",
    "_uuid": "c7da0085f21e7e5f84f186f6c0477d7bc124cb45"
   },
   "source": [
    "### Funciones de utilidad\n"
   ]
  },
  {
   "cell_type": "code",
   "execution_count": 2,
   "metadata": {
    "_cell_guid": "c886a7cc-f168-449e-8bb6-d78f6f9041fb",
    "_uuid": "ad165cded227806fe7578f2f851696040a5445c5"
   },
   "outputs": [],
   "source": [
    "# Plotea histograma de datos\n",
    "# función tomada de https://www.kaggle.com/romulomadu/minimizing-total-cost-result-9020-00\n",
    "def bar(acumm_data):\n",
    "    # Do plot\n",
    "    fig = plt.figure(figsize=(10,7))\n",
    "    ax = fig.add_subplot(111)\n",
    "    ax = sns.barplot(x=acumm_data.index, y=acumm_data.values, palette='tab20b', ax=ax)\n",
    "    ax.set_xticklabels(ax.get_xticklabels(), rotation=90)    \n",
    "    return ax\n",
    "\n",
    "#Plotea la matriz de confución\n",
    "def print_binary_confusion_matrix(matrix):    \n",
    "    TN = matrix[0,0]\n",
    "    FN = matrix[1,0]\n",
    "    FP = matrix[0,1]\n",
    "    TP = matrix[1,1]\n",
    "\n",
    "    print ('              +-----------------+')\n",
    "    print ('              |   Predicción    |')\n",
    "    print ('              +-----------------+')\n",
    "    print ('              |    +   |    -   |')\n",
    "    print ('+-------+-----+--------+--------+')\n",
    "    print ('| Valor |  +  |  {:5d} |  {:5d} |'.format(TP, FN) )\n",
    "    print ('| real  +-----+--------+--------+')\n",
    "    print ('|       |  -  |  {:5d} |  {:5d} |'.format(FP, TN) )\n",
    "    print ('+-------+-----+--------+--------+')"
   ]
  },
  {
   "cell_type": "markdown",
   "metadata": {
    "_cell_guid": "25c3bbcc-1bb3-451d-88b2-a788c9620dd1",
    "_uuid": "0820ca2be7fb0c46ca460b9ec7832c6d2e7e4f02"
   },
   "source": [
    "## Lectura de datos "
   ]
  },
  {
   "cell_type": "code",
   "execution_count": 3,
   "metadata": {
    "_cell_guid": "68730eee-06af-42da-8f04-c0617f972aea",
    "_uuid": "89c8b03dffaa7d1be9be6402145d9c8970faf237"
   },
   "outputs": [],
   "source": [
    "#lectura de datos\n",
    "train_features_raw = pd.read_csv('Data/aps_failure_training_set.csv', na_values='na')\n",
    "test_features_raw =  pd.read_csv('Data/aps_failure_test_set.csv', na_values='na')\n",
    "\n",
    "#selecciona solo la variable a predecir\n",
    "train_labels = train_features_raw['class']\n",
    "test_labels = test_features_raw['class']\n",
    "\n",
    "#selecciona solo las variables independientes\n",
    "train_features = train_features_raw.drop('class', axis=1)\n",
    "test_features = test_features_raw.drop('class', axis=1)"
   ]
  },
  {
   "cell_type": "markdown",
   "metadata": {
    "_cell_guid": "bde7de1d-c8ac-46ff-9ba8-489c542dea0a",
    "_uuid": "36a154d8fa4cf76107a387b8886f5d49c185caa8"
   },
   "source": [
    "## Análisis exploratorio de datos "
   ]
  },
  {
   "cell_type": "code",
   "execution_count": 4,
   "metadata": {
    "_cell_guid": "931cb280-82d4-44f7-aea5-5e732ca7c89e",
    "_uuid": "b7e20f7aaa6ca7307669071e84015ba728b364ac",
    "scrolled": false
   },
   "outputs": [
    {
     "data": {
      "text/plain": [
       "neg    59000\n",
       "pos     1000\n",
       "Name: class, dtype: int64"
      ]
     },
     "execution_count": 4,
     "metadata": {},
     "output_type": "execute_result"
    }
   ],
   "source": [
    "train_features_raw['class'].value_counts()"
   ]
  },
  {
   "cell_type": "code",
   "execution_count": 5,
   "metadata": {},
   "outputs": [
    {
     "data": {
      "text/html": [
       "<div>\n",
       "<style scoped>\n",
       "    .dataframe tbody tr th:only-of-type {\n",
       "        vertical-align: middle;\n",
       "    }\n",
       "\n",
       "    .dataframe tbody tr th {\n",
       "        vertical-align: top;\n",
       "    }\n",
       "\n",
       "    .dataframe thead th {\n",
       "        text-align: right;\n",
       "    }\n",
       "</style>\n",
       "<table border=\"1\" class=\"dataframe\">\n",
       "  <thead>\n",
       "    <tr style=\"text-align: right;\">\n",
       "      <th></th>\n",
       "      <th>class</th>\n",
       "      <th>aa_000</th>\n",
       "      <th>ab_000</th>\n",
       "      <th>ac_000</th>\n",
       "      <th>ad_000</th>\n",
       "      <th>ae_000</th>\n",
       "      <th>af_000</th>\n",
       "      <th>ag_000</th>\n",
       "      <th>ag_001</th>\n",
       "      <th>ag_002</th>\n",
       "      <th>...</th>\n",
       "      <th>ee_002</th>\n",
       "      <th>ee_003</th>\n",
       "      <th>ee_004</th>\n",
       "      <th>ee_005</th>\n",
       "      <th>ee_006</th>\n",
       "      <th>ee_007</th>\n",
       "      <th>ee_008</th>\n",
       "      <th>ee_009</th>\n",
       "      <th>ef_000</th>\n",
       "      <th>eg_000</th>\n",
       "    </tr>\n",
       "  </thead>\n",
       "  <tbody>\n",
       "    <tr>\n",
       "      <th>0</th>\n",
       "      <td>neg</td>\n",
       "      <td>76698</td>\n",
       "      <td>NaN</td>\n",
       "      <td>2.130706e+09</td>\n",
       "      <td>280.0</td>\n",
       "      <td>0.0</td>\n",
       "      <td>0.0</td>\n",
       "      <td>0.0</td>\n",
       "      <td>0.0</td>\n",
       "      <td>0.0</td>\n",
       "      <td>...</td>\n",
       "      <td>1240520.0</td>\n",
       "      <td>493384.0</td>\n",
       "      <td>721044.0</td>\n",
       "      <td>469792.0</td>\n",
       "      <td>339156.0</td>\n",
       "      <td>157956.0</td>\n",
       "      <td>73224.0</td>\n",
       "      <td>0.0</td>\n",
       "      <td>0.0</td>\n",
       "      <td>0.0</td>\n",
       "    </tr>\n",
       "    <tr>\n",
       "      <th>1</th>\n",
       "      <td>neg</td>\n",
       "      <td>33058</td>\n",
       "      <td>NaN</td>\n",
       "      <td>0.000000e+00</td>\n",
       "      <td>NaN</td>\n",
       "      <td>0.0</td>\n",
       "      <td>0.0</td>\n",
       "      <td>0.0</td>\n",
       "      <td>0.0</td>\n",
       "      <td>0.0</td>\n",
       "      <td>...</td>\n",
       "      <td>421400.0</td>\n",
       "      <td>178064.0</td>\n",
       "      <td>293306.0</td>\n",
       "      <td>245416.0</td>\n",
       "      <td>133654.0</td>\n",
       "      <td>81140.0</td>\n",
       "      <td>97576.0</td>\n",
       "      <td>1500.0</td>\n",
       "      <td>0.0</td>\n",
       "      <td>0.0</td>\n",
       "    </tr>\n",
       "    <tr>\n",
       "      <th>2</th>\n",
       "      <td>neg</td>\n",
       "      <td>41040</td>\n",
       "      <td>NaN</td>\n",
       "      <td>2.280000e+02</td>\n",
       "      <td>100.0</td>\n",
       "      <td>0.0</td>\n",
       "      <td>0.0</td>\n",
       "      <td>0.0</td>\n",
       "      <td>0.0</td>\n",
       "      <td>0.0</td>\n",
       "      <td>...</td>\n",
       "      <td>277378.0</td>\n",
       "      <td>159812.0</td>\n",
       "      <td>423992.0</td>\n",
       "      <td>409564.0</td>\n",
       "      <td>320746.0</td>\n",
       "      <td>158022.0</td>\n",
       "      <td>95128.0</td>\n",
       "      <td>514.0</td>\n",
       "      <td>0.0</td>\n",
       "      <td>0.0</td>\n",
       "    </tr>\n",
       "    <tr>\n",
       "      <th>3</th>\n",
       "      <td>neg</td>\n",
       "      <td>12</td>\n",
       "      <td>0.0</td>\n",
       "      <td>7.000000e+01</td>\n",
       "      <td>66.0</td>\n",
       "      <td>0.0</td>\n",
       "      <td>10.0</td>\n",
       "      <td>0.0</td>\n",
       "      <td>0.0</td>\n",
       "      <td>0.0</td>\n",
       "      <td>...</td>\n",
       "      <td>240.0</td>\n",
       "      <td>46.0</td>\n",
       "      <td>58.0</td>\n",
       "      <td>44.0</td>\n",
       "      <td>10.0</td>\n",
       "      <td>0.0</td>\n",
       "      <td>0.0</td>\n",
       "      <td>0.0</td>\n",
       "      <td>4.0</td>\n",
       "      <td>32.0</td>\n",
       "    </tr>\n",
       "    <tr>\n",
       "      <th>4</th>\n",
       "      <td>neg</td>\n",
       "      <td>60874</td>\n",
       "      <td>NaN</td>\n",
       "      <td>1.368000e+03</td>\n",
       "      <td>458.0</td>\n",
       "      <td>0.0</td>\n",
       "      <td>0.0</td>\n",
       "      <td>0.0</td>\n",
       "      <td>0.0</td>\n",
       "      <td>0.0</td>\n",
       "      <td>...</td>\n",
       "      <td>622012.0</td>\n",
       "      <td>229790.0</td>\n",
       "      <td>405298.0</td>\n",
       "      <td>347188.0</td>\n",
       "      <td>286954.0</td>\n",
       "      <td>311560.0</td>\n",
       "      <td>433954.0</td>\n",
       "      <td>1218.0</td>\n",
       "      <td>0.0</td>\n",
       "      <td>0.0</td>\n",
       "    </tr>\n",
       "    <tr>\n",
       "      <th>5</th>\n",
       "      <td>neg</td>\n",
       "      <td>38312</td>\n",
       "      <td>NaN</td>\n",
       "      <td>2.130706e+09</td>\n",
       "      <td>218.0</td>\n",
       "      <td>0.0</td>\n",
       "      <td>0.0</td>\n",
       "      <td>0.0</td>\n",
       "      <td>0.0</td>\n",
       "      <td>0.0</td>\n",
       "      <td>...</td>\n",
       "      <td>388574.0</td>\n",
       "      <td>288278.0</td>\n",
       "      <td>900430.0</td>\n",
       "      <td>300412.0</td>\n",
       "      <td>1534.0</td>\n",
       "      <td>338.0</td>\n",
       "      <td>856.0</td>\n",
       "      <td>0.0</td>\n",
       "      <td>0.0</td>\n",
       "      <td>0.0</td>\n",
       "    </tr>\n",
       "    <tr>\n",
       "      <th>6</th>\n",
       "      <td>neg</td>\n",
       "      <td>14</td>\n",
       "      <td>0.0</td>\n",
       "      <td>6.000000e+00</td>\n",
       "      <td>NaN</td>\n",
       "      <td>0.0</td>\n",
       "      <td>0.0</td>\n",
       "      <td>0.0</td>\n",
       "      <td>0.0</td>\n",
       "      <td>0.0</td>\n",
       "      <td>...</td>\n",
       "      <td>168.0</td>\n",
       "      <td>48.0</td>\n",
       "      <td>60.0</td>\n",
       "      <td>28.0</td>\n",
       "      <td>0.0</td>\n",
       "      <td>0.0</td>\n",
       "      <td>0.0</td>\n",
       "      <td>0.0</td>\n",
       "      <td>0.0</td>\n",
       "      <td>0.0</td>\n",
       "    </tr>\n",
       "    <tr>\n",
       "      <th>7</th>\n",
       "      <td>neg</td>\n",
       "      <td>102960</td>\n",
       "      <td>NaN</td>\n",
       "      <td>2.130706e+09</td>\n",
       "      <td>116.0</td>\n",
       "      <td>0.0</td>\n",
       "      <td>0.0</td>\n",
       "      <td>0.0</td>\n",
       "      <td>0.0</td>\n",
       "      <td>0.0</td>\n",
       "      <td>...</td>\n",
       "      <td>715518.0</td>\n",
       "      <td>384948.0</td>\n",
       "      <td>915978.0</td>\n",
       "      <td>1052166.0</td>\n",
       "      <td>1108672.0</td>\n",
       "      <td>341532.0</td>\n",
       "      <td>129504.0</td>\n",
       "      <td>7832.0</td>\n",
       "      <td>0.0</td>\n",
       "      <td>0.0</td>\n",
       "    </tr>\n",
       "    <tr>\n",
       "      <th>8</th>\n",
       "      <td>neg</td>\n",
       "      <td>78696</td>\n",
       "      <td>NaN</td>\n",
       "      <td>0.000000e+00</td>\n",
       "      <td>NaN</td>\n",
       "      <td>0.0</td>\n",
       "      <td>0.0</td>\n",
       "      <td>0.0</td>\n",
       "      <td>0.0</td>\n",
       "      <td>0.0</td>\n",
       "      <td>...</td>\n",
       "      <td>699290.0</td>\n",
       "      <td>362510.0</td>\n",
       "      <td>1190028.0</td>\n",
       "      <td>1012704.0</td>\n",
       "      <td>160090.0</td>\n",
       "      <td>63216.0</td>\n",
       "      <td>41202.0</td>\n",
       "      <td>4.0</td>\n",
       "      <td>0.0</td>\n",
       "      <td>0.0</td>\n",
       "    </tr>\n",
       "    <tr>\n",
       "      <th>9</th>\n",
       "      <td>pos</td>\n",
       "      <td>153204</td>\n",
       "      <td>0.0</td>\n",
       "      <td>1.820000e+02</td>\n",
       "      <td>NaN</td>\n",
       "      <td>0.0</td>\n",
       "      <td>0.0</td>\n",
       "      <td>0.0</td>\n",
       "      <td>0.0</td>\n",
       "      <td>0.0</td>\n",
       "      <td>...</td>\n",
       "      <td>129862.0</td>\n",
       "      <td>26872.0</td>\n",
       "      <td>34044.0</td>\n",
       "      <td>22472.0</td>\n",
       "      <td>34362.0</td>\n",
       "      <td>0.0</td>\n",
       "      <td>0.0</td>\n",
       "      <td>0.0</td>\n",
       "      <td>0.0</td>\n",
       "      <td>0.0</td>\n",
       "    </tr>\n",
       "  </tbody>\n",
       "</table>\n",
       "<p>10 rows × 171 columns</p>\n",
       "</div>"
      ],
      "text/plain": [
       "  class  aa_000  ab_000        ac_000  ad_000  ae_000  af_000  ag_000  ag_001  \\\n",
       "0   neg   76698     NaN  2.130706e+09   280.0     0.0     0.0     0.0     0.0   \n",
       "1   neg   33058     NaN  0.000000e+00     NaN     0.0     0.0     0.0     0.0   \n",
       "2   neg   41040     NaN  2.280000e+02   100.0     0.0     0.0     0.0     0.0   \n",
       "3   neg      12     0.0  7.000000e+01    66.0     0.0    10.0     0.0     0.0   \n",
       "4   neg   60874     NaN  1.368000e+03   458.0     0.0     0.0     0.0     0.0   \n",
       "5   neg   38312     NaN  2.130706e+09   218.0     0.0     0.0     0.0     0.0   \n",
       "6   neg      14     0.0  6.000000e+00     NaN     0.0     0.0     0.0     0.0   \n",
       "7   neg  102960     NaN  2.130706e+09   116.0     0.0     0.0     0.0     0.0   \n",
       "8   neg   78696     NaN  0.000000e+00     NaN     0.0     0.0     0.0     0.0   \n",
       "9   pos  153204     0.0  1.820000e+02     NaN     0.0     0.0     0.0     0.0   \n",
       "\n",
       "   ag_002   ...       ee_002    ee_003     ee_004     ee_005     ee_006  \\\n",
       "0     0.0   ...    1240520.0  493384.0   721044.0   469792.0   339156.0   \n",
       "1     0.0   ...     421400.0  178064.0   293306.0   245416.0   133654.0   \n",
       "2     0.0   ...     277378.0  159812.0   423992.0   409564.0   320746.0   \n",
       "3     0.0   ...        240.0      46.0       58.0       44.0       10.0   \n",
       "4     0.0   ...     622012.0  229790.0   405298.0   347188.0   286954.0   \n",
       "5     0.0   ...     388574.0  288278.0   900430.0   300412.0     1534.0   \n",
       "6     0.0   ...        168.0      48.0       60.0       28.0        0.0   \n",
       "7     0.0   ...     715518.0  384948.0   915978.0  1052166.0  1108672.0   \n",
       "8     0.0   ...     699290.0  362510.0  1190028.0  1012704.0   160090.0   \n",
       "9     0.0   ...     129862.0   26872.0    34044.0    22472.0    34362.0   \n",
       "\n",
       "     ee_007    ee_008  ee_009  ef_000  eg_000  \n",
       "0  157956.0   73224.0     0.0     0.0     0.0  \n",
       "1   81140.0   97576.0  1500.0     0.0     0.0  \n",
       "2  158022.0   95128.0   514.0     0.0     0.0  \n",
       "3       0.0       0.0     0.0     4.0    32.0  \n",
       "4  311560.0  433954.0  1218.0     0.0     0.0  \n",
       "5     338.0     856.0     0.0     0.0     0.0  \n",
       "6       0.0       0.0     0.0     0.0     0.0  \n",
       "7  341532.0  129504.0  7832.0     0.0     0.0  \n",
       "8   63216.0   41202.0     4.0     0.0     0.0  \n",
       "9       0.0       0.0     0.0     0.0     0.0  \n",
       "\n",
       "[10 rows x 171 columns]"
      ]
     },
     "execution_count": 5,
     "metadata": {},
     "output_type": "execute_result"
    }
   ],
   "source": [
    "train_features_raw.head(10)"
   ]
  },
  {
   "cell_type": "markdown",
   "metadata": {},
   "source": [
    "Se ha detectado la presencia de valores NaN"
   ]
  },
  {
   "cell_type": "code",
   "execution_count": 6,
   "metadata": {
    "_cell_guid": "a66c9941-449d-418c-bcd9-2dff01809875",
    "_uuid": "5bf6e59bfc785d5600631a9cb7f0680056a85852",
    "scrolled": true
   },
   "outputs": [
    {
     "name": "stdout",
     "output_type": "stream",
     "text": [
      "8% de los datos no son válidos.\n"
     ]
    }
   ],
   "source": [
    "#Una estrategia de detección de NaN en todo el dataframe es \n",
    "#la concatenación de todos los datos en un solo arreglo y busqueda de nan\n",
    "#Función inspirada en https://www.kaggle.com/romulomadu/minimizing-total-cost-result-9020-00\n",
    "flat_data = train_features.values.flatten() #conversión a arreglo en numpy\n",
    "count=0 \n",
    "for value in flat_data:\n",
    "    if np.isnan(value) == True : #si es nan == True, se suma 1 al contador\n",
    "        count=count+1;\n",
    "pct_nan = round(100*count/len(flat_data))\n",
    "print(f'{pct_nan}% de los datos no son válidos.')"
   ]
  },
  {
   "cell_type": "markdown",
   "metadata": {},
   "source": [
    "## Completando NaN"
   ]
  },
  {
   "cell_type": "code",
   "execution_count": 7,
   "metadata": {},
   "outputs": [],
   "source": [
    "train_features=train_features.fillna(train_features.median())\n",
    "test_features=test_features.fillna(test_features.median())"
   ]
  },
  {
   "cell_type": "code",
   "execution_count": 8,
   "metadata": {},
   "outputs": [
    {
     "name": "stdout",
     "output_type": "stream",
     "text": [
      "0% de los datos no son válidos.\n"
     ]
    }
   ],
   "source": [
    "flat_data = train_features.values.flatten() #conversión a arreglo en numpy\n",
    "count=0 \n",
    "for value in flat_data:\n",
    "    if np.isnan(value) == True : #si es nan == True, se suma 1 al contador\n",
    "        count=count+1;\n",
    "pct_nan = round(100*count/len(flat_data))\n",
    "print(f'{pct_nan}% de los datos no son válidos.')"
   ]
  },
  {
   "cell_type": "markdown",
   "metadata": {},
   "source": [
    "Se verifica que no hay datos faltantes"
   ]
  },
  {
   "cell_type": "markdown",
   "metadata": {
    "_cell_guid": "dbb2cb75-a047-4bcf-ac39-2ae33cfb25e5",
    "_uuid": "bb254c70492ae2dc067909ffe9eacd1d8b59c8b6"
   },
   "source": [
    "### Procesando los datos de entrenamiento"
   ]
  },
  {
   "cell_type": "code",
   "execution_count": 9,
   "metadata": {
    "_cell_guid": "963a166f-d692-4640-bd90-f77d78a4f606",
    "_uuid": "1129ee7e57fa74fa930f29bbf846c302cfc1b4ea"
   },
   "outputs": [],
   "source": [
    "#Reemplazo de labels de entrenamiento y prueba\n",
    "train_labels = train_labels.replace({'neg':0,'pos':1});\n",
    "test_labels = test_labels.replace({'neg':0,'pos':1})"
   ]
  },
  {
   "cell_type": "markdown",
   "metadata": {
    "_cell_guid": "5099b0e3-dc6d-446b-94b4-ac7ee01a6aae",
    "_uuid": "b62194b0a9a44ff7221cf5b26aa75ac1a68a3e08"
   },
   "source": [
    "### Mostrar datos desbalanceados"
   ]
  },
  {
   "cell_type": "code",
   "execution_count": 10,
   "metadata": {
    "_cell_guid": "bd52b6c5-fe95-4ccf-8b64-75bb4a3f99b1",
    "_uuid": "56af87c846427516ab50a427668392938a5d709b",
    "scrolled": true
   },
   "outputs": [
    {
     "data": {
      "image/png": "[encoded data removed]",
      "text/plain": [
       "<matplotlib.figure.Figure at 0x21e04d9b550>"
      ]
     },
     "metadata": {},
     "output_type": "display_data"
    }
   ],
   "source": [
    "bar(train_labels.value_counts())\n",
    "plt.show()"
   ]
  },
  {
   "cell_type": "markdown",
   "metadata": {},
   "source": [
    "# Normalización\n",
    "Debido a que se utilizará un clasificador de RandomForestClassifier, no se realizará ninguna transformación de datos porque se asume que este método es insensible a los tipos de datos que se utilicen"
   ]
  },
  {
   "cell_type": "markdown",
   "metadata": {},
   "source": [
    "# Balanceo de datos"
   ]
  },
  {
   "cell_type": "code",
   "execution_count": 11,
   "metadata": {},
   "outputs": [],
   "source": [
    "# Se selecciona una muestra class=0 con igual número de elementos de class =1\n",
    "# Tomado de https://www.kaggle.com/romulomadu/minimizing-total-cost-result-9020-00\n",
    "id_1 = train_labels[train_labels==1].index\n",
    "id_0 = train_labels[train_labels==0].sample(n=1000, replace=False, random_state=0).index\n",
    "id_balanced = np.concatenate((id_1,id_0)) #index de datos balanceados\n",
    "#para pca\n",
    "train_features_balanced = train_features.loc[id_balanced]\n",
    "\n",
    "#labels a predecir\n",
    "train_labels_balanced = train_labels.loc[id_balanced]\n"
   ]
  },
  {
   "cell_type": "code",
   "execution_count": 12,
   "metadata": {
    "scrolled": true
   },
   "outputs": [
    {
     "data": {
      "text/plain": [
       "1    1000\n",
       "0    1000\n",
       "Name: class, dtype: int64"
      ]
     },
     "execution_count": 12,
     "metadata": {},
     "output_type": "execute_result"
    }
   ],
   "source": [
    "train_labels_balanced.value_counts()"
   ]
  },
  {
   "cell_type": "markdown",
   "metadata": {},
   "source": [
    "   # Pipelines y GridSearchCV\n",
    "Se utilizarán pipelines y búsqueda de grilla a fin de simplificar la cantidad de código durante la búsqueda de los mejores hiperparámetros. La referencia utilizada se encuentra en \n",
    "   \n",
    "- https://www.civisanalytics.com/blog/workflows-in-python-using-pipeline-and-gridsearchcv-for-more-compact-and-comprehensive-code/ \n",
    "- http://scikit-learn.org/stable/modules/generated/sklearn.pipeline.Pipeline.html\n",
    "- http://scikit-learn.org/0.17/modules/generated/sklearn.grid_search.GridSearchCV.html\n",
    "\n",
    "Se ha utilizado dos criterios fundamentales de reducción de dimensionalidad: PCA y SelectKBest. Se observó que en el mejor resultado publicado (https://www.kaggle.com/romulomadu/minimizing-total-cost-result-9020-00) se utilizaron distintos parámetros configurados manualmente. Se decisidió realizar una búsqueda de grilla con todos los hiperparámetros posibles."
   ]
  },
  {
   "cell_type": "code",
   "execution_count": 13,
   "metadata": {},
   "outputs": [
    {
     "data": {
      "text/plain": [
       "Pipeline(memory=None,\n",
       "     steps=[('select', SelectKBest(k=10, score_func=<function f_classif at 0x0000021E6823CD08>)), ('rfc', RandomForestClassifier(bootstrap=True, class_weight=None, criterion='gini',\n",
       "            max_depth=None, max_features='auto', max_leaf_nodes=None,\n",
       "            min_impurity_decrease=0.0, min_impurity_s...timators=10, n_jobs=1,\n",
       "            oob_score=True, random_state=None, verbose=0, warm_start=False))])"
      ]
     },
     "execution_count": 13,
     "metadata": {},
     "output_type": "execute_result"
    }
   ],
   "source": [
    "#Se construye un pipeline \n",
    "\n",
    "selector = SelectKBest() \n",
    "classifier = RandomForestClassifier(oob_score=True)\n",
    "pipeline1 = Pipeline([('select', selector), ('rfc', classifier)])\n",
    "pipeline1\n",
    "#Este pipeline define la secuencia de funciones por las que los datos de entrenamiento pasarán: 7\n",
    "    #selección de variables, entrenamiento y predicción"
   ]
  },
  {
   "cell_type": "markdown",
   "metadata": {},
   "source": [
    "# Definir una función score personalizada\n",
    "El objetivo de la búsqueda de grilla es obtener los mejores hiperparámetros de acuerdo a un score deseado. En este caso, se creó un función de score específica de acuerdo a las necesidades del problema."
   ]
  },
  {
   "cell_type": "code",
   "execution_count": 14,
   "metadata": {},
   "outputs": [],
   "source": [
    "# Se define la función score personalizada\n",
    "def score_scania(y,y_pred):\n",
    "    tn, fp, fn, tp = confusion_matrix(y,y_pred).ravel()\n",
    "    price = (10 * fp + 500*fn) #Se introduce la formula deseada\n",
    "    return price"
   ]
  },
  {
   "cell_type": "code",
   "execution_count": 15,
   "metadata": {},
   "outputs": [],
   "source": [
    " #Se utiliza la función make_scorer para crear una función invocable desde GridSearchCV\n",
    " #ver : http://scikit-learn.org/stable/modules/generated/sklearn.metrics.make_scorer.html#sklearn.metrics.make_scorer\n",
    "scania_price = make_scorer(score_scania, greater_is_better=True)"
   ]
  },
  {
   "cell_type": "code",
   "execution_count": 16,
   "metadata": {
    "scrolled": true
   },
   "outputs": [
    {
     "data": {
      "text/plain": [
       "{'rfc__criterion': ['gini'],\n",
       " 'rfc__max_depth': [100, None],\n",
       " 'rfc__max_features': [7, 8, 'sqrt'],\n",
       " 'rfc__n_estimators': [130, 140, 200],\n",
       " 'select__k': [92, 93, 95, 96],\n",
       " 'select__score_func': [<function sklearn.feature_selection.univariate_selection.chi2>]}"
      ]
     },
     "execution_count": 16,
     "metadata": {},
     "output_type": "execute_result"
    }
   ],
   "source": [
    "#Se definen los hiperparámetros a probar en la búsqueda de grilla\n",
    "parameters = {'select__k':[92,93,95,96], \n",
    "              'select__score_func': [chi2], \n",
    "              'rfc__criterion':['gini'],\n",
    "             'rfc__n_estimators':[130,140,200],\n",
    "             'rfc__max_features':[7,8,'sqrt'],\n",
    "             'rfc__max_depth':[100,None]};\n",
    "parameters"
   ]
  },
  {
   "cell_type": "code",
   "execution_count": 17,
   "metadata": {
    "scrolled": true
   },
   "outputs": [
    {
     "name": "stdout",
     "output_type": "stream",
     "text": [
      "Fitting 2 folds for each of 72 candidates, totalling 144 fits\n"
     ]
    },
    {
     "name": "stderr",
     "output_type": "stream",
     "text": [
      "[Parallel(n_jobs=4)]: Done   1 tasks      | elapsed:    6.5s\n",
      "[Parallel(n_jobs=4)]: Done   2 tasks      | elapsed:    9.4s\n",
      "[Parallel(n_jobs=4)]: Done   3 tasks      | elapsed:   12.3s\n",
      "[Parallel(n_jobs=4)]: Done   4 tasks      | elapsed:   15.4s\n",
      "[Parallel(n_jobs=4)]: Done   5 tasks      | elapsed:   15.4s\n",
      "[Parallel(n_jobs=4)]: Done   6 tasks      | elapsed:   15.4s\n",
      "[Parallel(n_jobs=4)]: Done   7 tasks      | elapsed:   15.4s\n",
      "[Parallel(n_jobs=4)]: Done   8 tasks      | elapsed:   16.0s\n",
      "[Parallel(n_jobs=4)]: Done   9 tasks      | elapsed:   16.1s\n",
      "[Parallel(n_jobs=4)]: Done  10 tasks      | elapsed:   16.1s\n",
      "[Parallel(n_jobs=4)]: Done  11 tasks      | elapsed:   16.1s\n",
      "[Parallel(n_jobs=4)]: Done  12 tasks      | elapsed:   16.7s\n",
      "[Parallel(n_jobs=4)]: Done  13 tasks      | elapsed:   16.8s\n",
      "[Parallel(n_jobs=4)]: Done  14 tasks      | elapsed:   16.8s\n",
      "[Parallel(n_jobs=4)]: Done  15 tasks      | elapsed:   16.8s\n",
      "[Parallel(n_jobs=4)]: Done  16 tasks      | elapsed:   17.3s\n",
      "[Parallel(n_jobs=4)]: Done  17 tasks      | elapsed:   17.7s\n",
      "[Parallel(n_jobs=4)]: Done  18 tasks      | elapsed:   17.7s\n",
      "[Parallel(n_jobs=4)]: Done  19 tasks      | elapsed:   17.7s\n",
      "[Parallel(n_jobs=4)]: Done  20 tasks      | elapsed:   18.2s\n",
      "[Parallel(n_jobs=4)]: Done  21 tasks      | elapsed:   18.6s\n",
      "[Parallel(n_jobs=4)]: Done  22 tasks      | elapsed:   18.6s\n",
      "[Parallel(n_jobs=4)]: Done  23 tasks      | elapsed:   18.7s\n",
      "[Parallel(n_jobs=4)]: Done  24 tasks      | elapsed:   19.1s\n",
      "[Parallel(n_jobs=4)]: Done  25 tasks      | elapsed:   19.2s\n",
      "[Parallel(n_jobs=4)]: Done  26 tasks      | elapsed:   19.2s\n",
      "[Parallel(n_jobs=4)]: Done  27 tasks      | elapsed:   19.3s\n",
      "[Parallel(n_jobs=4)]: Done  28 tasks      | elapsed:   19.7s\n",
      "[Parallel(n_jobs=4)]: Done  29 tasks      | elapsed:   19.8s\n",
      "[Parallel(n_jobs=4)]: Done  30 tasks      | elapsed:   19.9s\n",
      "[Parallel(n_jobs=4)]: Done  31 tasks      | elapsed:   20.0s\n",
      "[Parallel(n_jobs=4)]: Done  32 tasks      | elapsed:   20.4s\n",
      "[Parallel(n_jobs=4)]: Done  33 tasks      | elapsed:   20.6s\n",
      "[Parallel(n_jobs=4)]: Done  34 tasks      | elapsed:   20.6s\n",
      "[Parallel(n_jobs=4)]: Done  35 tasks      | elapsed:   20.7s\n",
      "[Parallel(n_jobs=4)]: Done  36 tasks      | elapsed:   21.1s\n",
      "[Parallel(n_jobs=4)]: Done  37 tasks      | elapsed:   21.3s\n",
      "[Parallel(n_jobs=4)]: Done  38 tasks      | elapsed:   21.3s\n",
      "[Parallel(n_jobs=4)]: Done  39 tasks      | elapsed:   21.4s\n",
      "[Parallel(n_jobs=4)]: Done  40 tasks      | elapsed:   21.8s\n",
      "[Parallel(n_jobs=4)]: Done  41 tasks      | elapsed:   22.2s\n",
      "[Parallel(n_jobs=4)]: Done  42 tasks      | elapsed:   22.3s\n",
      "[Parallel(n_jobs=4)]: Done  43 tasks      | elapsed:   22.3s\n",
      "[Parallel(n_jobs=4)]: Done  44 tasks      | elapsed:   22.7s\n",
      "[Parallel(n_jobs=4)]: Done  45 tasks      | elapsed:   23.2s\n",
      "[Parallel(n_jobs=4)]: Done  46 tasks      | elapsed:   23.3s\n",
      "[Parallel(n_jobs=4)]: Done  47 tasks      | elapsed:   23.4s\n",
      "[Parallel(n_jobs=4)]: Done  48 tasks      | elapsed:   23.7s\n",
      "[Parallel(n_jobs=4)]: Done  49 tasks      | elapsed:   24.0s\n",
      "[Parallel(n_jobs=4)]: Done  50 tasks      | elapsed:   24.0s\n",
      "[Parallel(n_jobs=4)]: Done  51 tasks      | elapsed:   24.1s\n",
      "[Parallel(n_jobs=4)]: Done  52 tasks      | elapsed:   24.4s\n",
      "[Parallel(n_jobs=4)]: Done  53 tasks      | elapsed:   24.7s\n",
      "[Parallel(n_jobs=4)]: Done  54 tasks      | elapsed:   24.7s\n",
      "[Parallel(n_jobs=4)]: Done  55 tasks      | elapsed:   24.9s\n",
      "[Parallel(n_jobs=4)]: Done  56 tasks      | elapsed:   25.1s\n",
      "[Parallel(n_jobs=4)]: Done  57 tasks      | elapsed:   25.5s\n",
      "[Parallel(n_jobs=4)]: Done  58 tasks      | elapsed:   25.5s\n",
      "[Parallel(n_jobs=4)]: Done  59 tasks      | elapsed:   25.7s\n",
      "[Parallel(n_jobs=4)]: Done  60 tasks      | elapsed:   25.9s\n",
      "[Parallel(n_jobs=4)]: Done  61 tasks      | elapsed:   26.3s\n",
      "[Parallel(n_jobs=4)]: Done  62 tasks      | elapsed:   26.3s\n",
      "[Parallel(n_jobs=4)]: Done  63 tasks      | elapsed:   26.5s\n",
      "[Parallel(n_jobs=4)]: Done  64 tasks      | elapsed:   26.6s\n",
      "[Parallel(n_jobs=4)]: Done  65 tasks      | elapsed:   27.3s\n",
      "[Parallel(n_jobs=4)]: Done  66 tasks      | elapsed:   27.5s\n",
      "[Parallel(n_jobs=4)]: Done  67 tasks      | elapsed:   27.6s\n",
      "[Parallel(n_jobs=4)]: Done  68 tasks      | elapsed:   27.7s\n",
      "[Parallel(n_jobs=4)]: Done  69 tasks      | elapsed:   28.4s\n",
      "[Parallel(n_jobs=4)]: Done  70 tasks      | elapsed:   28.5s\n",
      "[Parallel(n_jobs=4)]: Done  71 tasks      | elapsed:   28.7s\n",
      "[Parallel(n_jobs=4)]: Done  72 tasks      | elapsed:   28.7s\n",
      "[Parallel(n_jobs=4)]: Done  73 tasks      | elapsed:   29.1s\n",
      "[Parallel(n_jobs=4)]: Done  74 tasks      | elapsed:   29.1s\n",
      "[Parallel(n_jobs=4)]: Done  75 tasks      | elapsed:   29.3s\n",
      "[Parallel(n_jobs=4)]: Done  76 tasks      | elapsed:   29.4s\n",
      "[Parallel(n_jobs=4)]: Done  77 tasks      | elapsed:   29.7s\n",
      "[Parallel(n_jobs=4)]: Done  78 tasks      | elapsed:   29.7s\n",
      "[Parallel(n_jobs=4)]: Done  79 tasks      | elapsed:   30.0s\n",
      "[Parallel(n_jobs=4)]: Done  80 tasks      | elapsed:   30.0s\n",
      "[Parallel(n_jobs=4)]: Done  81 tasks      | elapsed:   30.5s\n",
      "[Parallel(n_jobs=4)]: Done  82 tasks      | elapsed:   30.5s\n",
      "[Parallel(n_jobs=4)]: Done  83 tasks      | elapsed:   30.8s\n",
      "[Parallel(n_jobs=4)]: Done  84 tasks      | elapsed:   30.8s\n",
      "[Parallel(n_jobs=4)]: Done  85 tasks      | elapsed:   31.2s\n",
      "[Parallel(n_jobs=4)]: Done  86 tasks      | elapsed:   31.2s\n",
      "[Parallel(n_jobs=4)]: Done  87 tasks      | elapsed:   31.5s\n",
      "[Parallel(n_jobs=4)]: Done  88 tasks      | elapsed:   31.5s\n",
      "[Parallel(n_jobs=4)]: Done  89 tasks      | elapsed:   32.2s\n",
      "[Parallel(n_jobs=4)]: Done  90 tasks      | elapsed:   32.2s\n",
      "[Parallel(n_jobs=4)]: Done  91 tasks      | elapsed:   32.4s\n",
      "[Parallel(n_jobs=4)]: Done  92 tasks      | elapsed:   32.5s\n",
      "[Parallel(n_jobs=4)]: Done  93 tasks      | elapsed:   33.2s\n",
      "[Parallel(n_jobs=4)]: Done  94 tasks      | elapsed:   33.2s\n",
      "[Parallel(n_jobs=4)]: Done  95 tasks      | elapsed:   33.4s\n",
      "[Parallel(n_jobs=4)]: Done  96 tasks      | elapsed:   33.5s\n",
      "[Parallel(n_jobs=4)]: Done  97 tasks      | elapsed:   33.8s\n",
      "[Parallel(n_jobs=4)]: Done  98 tasks      | elapsed:   33.8s\n",
      "[Parallel(n_jobs=4)]: Done  99 tasks      | elapsed:   34.1s\n",
      "[Parallel(n_jobs=4)]: Done 100 tasks      | elapsed:   34.1s\n",
      "[Parallel(n_jobs=4)]: Done 101 tasks      | elapsed:   34.5s\n",
      "[Parallel(n_jobs=4)]: Done 102 tasks      | elapsed:   34.5s\n",
      "[Parallel(n_jobs=4)]: Done 103 tasks      | elapsed:   34.8s\n",
      "[Parallel(n_jobs=4)]: Done 104 tasks      | elapsed:   34.8s\n",
      "[Parallel(n_jobs=4)]: Done 105 tasks      | elapsed:   35.2s\n",
      "[Parallel(n_jobs=4)]: Done 106 tasks      | elapsed:   35.2s\n",
      "[Parallel(n_jobs=4)]: Done 107 tasks      | elapsed:   35.4s\n",
      "[Parallel(n_jobs=4)]: Done 108 tasks      | elapsed:   35.5s\n",
      "[Parallel(n_jobs=4)]: Done 109 tasks      | elapsed:   35.9s\n",
      "[Parallel(n_jobs=4)]: Done 110 tasks      | elapsed:   35.9s\n",
      "[Parallel(n_jobs=4)]: Done 111 tasks      | elapsed:   36.2s\n",
      "[Parallel(n_jobs=4)]: Done 112 tasks      | elapsed:   36.2s\n",
      "[Parallel(n_jobs=4)]: Done 113 tasks      | elapsed:   36.9s\n",
      "[Parallel(n_jobs=4)]: Done 114 tasks      | elapsed:   37.0s\n",
      "[Parallel(n_jobs=4)]: Done 115 tasks      | elapsed:   37.2s\n",
      "[Parallel(n_jobs=4)]: Done 116 tasks      | elapsed:   37.2s\n",
      "[Parallel(n_jobs=4)]: Done 117 tasks      | elapsed:   37.9s\n",
      "[Parallel(n_jobs=4)]: Done 118 tasks      | elapsed:   38.0s\n",
      "[Parallel(n_jobs=4)]: Done 119 tasks      | elapsed:   38.1s\n",
      "[Parallel(n_jobs=4)]: Done 120 tasks      | elapsed:   38.2s\n",
      "[Parallel(n_jobs=4)]: Done 121 tasks      | elapsed:   38.7s\n",
      "[Parallel(n_jobs=4)]: Done 122 tasks      | elapsed:   38.7s\n",
      "[Parallel(n_jobs=4)]: Done 123 tasks      | elapsed:   38.9s\n",
      "[Parallel(n_jobs=4)]: Done 124 tasks      | elapsed:   38.9s\n",
      "[Parallel(n_jobs=4)]: Done 125 tasks      | elapsed:   39.3s\n",
      "[Parallel(n_jobs=4)]: Done 126 tasks      | elapsed:   39.4s\n",
      "[Parallel(n_jobs=4)]: Done 127 tasks      | elapsed:   39.5s\n",
      "[Parallel(n_jobs=4)]: Done 128 tasks      | elapsed:   39.6s\n",
      "[Parallel(n_jobs=4)]: Done 129 tasks      | elapsed:   40.1s\n",
      "[Parallel(n_jobs=4)]: Done 130 tasks      | elapsed:   40.1s\n",
      "[Parallel(n_jobs=4)]: Done 131 tasks      | elapsed:   40.3s\n",
      "[Parallel(n_jobs=4)]: Done 132 tasks      | elapsed:   40.3s\n",
      "[Parallel(n_jobs=4)]: Done 133 tasks      | elapsed:   40.9s\n",
      "[Parallel(n_jobs=4)]: Done 134 tasks      | elapsed:   40.9s\n",
      "[Parallel(n_jobs=4)]: Done 135 tasks      | elapsed:   41.0s\n",
      "[Parallel(n_jobs=4)]: Done 136 tasks      | elapsed:   41.1s\n"
     ]
    },
    {
     "name": "stderr",
     "output_type": "stream",
     "text": [
      "[Parallel(n_jobs=4)]: Done 137 tasks      | elapsed:   41.9s\n",
      "[Parallel(n_jobs=4)]: Done 141 out of 144 | elapsed:   42.9s remaining:    0.8s\n",
      "[Parallel(n_jobs=4)]: Done 144 out of 144 | elapsed:   43.0s finished\n"
     ]
    }
   ],
   "source": [
    "#Se seleccionan los siguientes parámetros de importancia:\n",
    "#scoring = 'recall'\n",
    "\n",
    "gs_1 = GridSearchCV(pipeline1, \n",
    "                    param_grid=parameters,\n",
    "                    n_jobs=4, \n",
    "                    scoring='f1',\n",
    "                    verbose=40,cv=2).fit(train_features_balanced,train_labels_balanced)"
   ]
  },
  {
   "cell_type": "code",
   "execution_count": 18,
   "metadata": {},
   "outputs": [
    {
     "data": {
      "text/plain": [
       "0.9575098814229249"
      ]
     },
     "execution_count": 18,
     "metadata": {},
     "output_type": "execute_result"
    }
   ],
   "source": [
    "#El mejor score f1 es:\n",
    "gs_1.best_score_"
   ]
  },
  {
   "cell_type": "code",
   "execution_count": 19,
   "metadata": {},
   "outputs": [
    {
     "data": {
      "text/plain": [
       "{'rfc__criterion': 'gini',\n",
       " 'rfc__max_depth': None,\n",
       " 'rfc__max_features': 8,\n",
       " 'rfc__n_estimators': 130,\n",
       " 'select__k': 93,\n",
       " 'select__score_func': <function sklearn.feature_selection.univariate_selection.chi2>}"
      ]
     },
     "execution_count": 19,
     "metadata": {},
     "output_type": "execute_result"
    }
   ],
   "source": [
    "#Los mejores parámetros son:\n",
    "gs_1.best_params_"
   ]
  },
  {
   "cell_type": "markdown",
   "metadata": {
    "_cell_guid": "1f494cb4-43d7-48a5-82e9-3728ac6a3c37",
    "_uuid": "7f70c4fd5e7f0cfcc8931156b047baadb56e4d9d"
   },
   "source": [
    "## Predicción Random Forest"
   ]
  },
  {
   "cell_type": "code",
   "execution_count": 20,
   "metadata": {},
   "outputs": [],
   "source": [
    "predicted_labels=gs_1.predict(test_features)"
   ]
  },
  {
   "cell_type": "code",
   "execution_count": 21,
   "metadata": {},
   "outputs": [],
   "source": [
    "#Función que calcula el costo total de acuerdo al problema\n",
    "def costo_total(cm):\n",
    "    costo= 10*cm[0,1] + 500*cm[1,0]\n",
    "    return costo"
   ]
  },
  {
   "cell_type": "code",
   "execution_count": 22,
   "metadata": {
    "_cell_guid": "df9eaad0-7f72-4d34-83d4-cbc4cdc5d835",
    "_uuid": "9de645cf1f6e63993fa6946d37cfd8524c66cf90"
   },
   "outputs": [
    {
     "name": "stdout",
     "output_type": "stream",
     "text": [
      "              +-----------------+\n",
      "              |   Predicción    |\n",
      "              +-----------------+\n",
      "              |    +   |    -   |\n",
      "+-------+-----+--------+--------+\n",
      "| Valor |  +  |    370 |      5 |\n",
      "| real  +-----+--------+--------+\n",
      "|       |  -  |    871 |  14754 |\n",
      "+-------+-----+--------+--------+\n",
      "Costo total para Random forest y PCA es 11210\n"
     ]
    }
   ],
   "source": [
    "cm_rf =confusion_matrix(test_labels, predicted_labels)\n",
    "print_binary_confusion_matrix (cm_rf)\n",
    "\n",
    "print('Costo total para Random forest y PCA es',costo_total(cm_rf))"
   ]
  },
  {
   "cell_type": "markdown",
   "metadata": {},
   "source": [
    "## Experimentación con diferentes scores"
   ]
  },
  {
   "cell_type": "code",
   "execution_count": 23,
   "metadata": {
    "scrolled": false
   },
   "outputs": [
    {
     "name": "stdout",
     "output_type": "stream",
     "text": [
      "Fitting 2 folds for each of 72 candidates, totalling 144 fits\n"
     ]
    },
    {
     "name": "stderr",
     "output_type": "stream",
     "text": [
      "[Parallel(n_jobs=4)]: Done   1 tasks      | elapsed:    6.2s\n",
      "[Parallel(n_jobs=4)]: Done   2 tasks      | elapsed:    9.0s\n",
      "[Parallel(n_jobs=4)]: Done   3 tasks      | elapsed:   12.0s\n",
      "[Parallel(n_jobs=4)]: Done   4 tasks      | elapsed:   14.8s\n",
      "[Parallel(n_jobs=4)]: Done   5 tasks      | elapsed:   14.9s\n",
      "[Parallel(n_jobs=4)]: Done   6 tasks      | elapsed:   14.9s\n",
      "[Parallel(n_jobs=4)]: Done   7 tasks      | elapsed:   14.9s\n",
      "[Parallel(n_jobs=4)]: Done   8 tasks      | elapsed:   15.4s\n",
      "[Parallel(n_jobs=4)]: Done   9 tasks      | elapsed:   15.5s\n",
      "[Parallel(n_jobs=4)]: Done  10 tasks      | elapsed:   15.6s\n",
      "[Parallel(n_jobs=4)]: Done  11 tasks      | elapsed:   15.6s\n",
      "[Parallel(n_jobs=4)]: Done  12 tasks      | elapsed:   16.0s\n",
      "[Parallel(n_jobs=4)]: Done  13 tasks      | elapsed:   16.2s\n",
      "[Parallel(n_jobs=4)]: Done  14 tasks      | elapsed:   16.2s\n",
      "[Parallel(n_jobs=4)]: Done  15 tasks      | elapsed:   16.3s\n",
      "[Parallel(n_jobs=4)]: Done  16 tasks      | elapsed:   16.7s\n",
      "[Parallel(n_jobs=4)]: Done  17 tasks      | elapsed:   17.1s\n",
      "[Parallel(n_jobs=4)]: Done  18 tasks      | elapsed:   17.1s\n",
      "[Parallel(n_jobs=4)]: Done  19 tasks      | elapsed:   17.2s\n",
      "[Parallel(n_jobs=4)]: Done  20 tasks      | elapsed:   17.6s\n",
      "[Parallel(n_jobs=4)]: Done  21 tasks      | elapsed:   18.1s\n",
      "[Parallel(n_jobs=4)]: Done  22 tasks      | elapsed:   18.1s\n",
      "[Parallel(n_jobs=4)]: Done  23 tasks      | elapsed:   18.2s\n",
      "[Parallel(n_jobs=4)]: Done  24 tasks      | elapsed:   18.6s\n",
      "[Parallel(n_jobs=4)]: Done  25 tasks      | elapsed:   18.8s\n",
      "[Parallel(n_jobs=4)]: Done  26 tasks      | elapsed:   18.8s\n",
      "[Parallel(n_jobs=4)]: Done  27 tasks      | elapsed:   19.0s\n",
      "[Parallel(n_jobs=4)]: Done  28 tasks      | elapsed:   19.3s\n",
      "[Parallel(n_jobs=4)]: Done  29 tasks      | elapsed:   19.5s\n",
      "[Parallel(n_jobs=4)]: Done  30 tasks      | elapsed:   19.5s\n",
      "[Parallel(n_jobs=4)]: Done  31 tasks      | elapsed:   19.7s\n",
      "[Parallel(n_jobs=4)]: Done  32 tasks      | elapsed:   20.0s\n",
      "[Parallel(n_jobs=4)]: Done  33 tasks      | elapsed:   20.3s\n",
      "[Parallel(n_jobs=4)]: Done  34 tasks      | elapsed:   20.3s\n",
      "[Parallel(n_jobs=4)]: Done  35 tasks      | elapsed:   20.6s\n",
      "[Parallel(n_jobs=4)]: Done  36 tasks      | elapsed:   20.8s\n",
      "[Parallel(n_jobs=4)]: Done  37 tasks      | elapsed:   21.1s\n",
      "[Parallel(n_jobs=4)]: Done  38 tasks      | elapsed:   21.1s\n",
      "[Parallel(n_jobs=4)]: Done  39 tasks      | elapsed:   21.3s\n",
      "[Parallel(n_jobs=4)]: Done  40 tasks      | elapsed:   21.5s\n",
      "[Parallel(n_jobs=4)]: Done  41 tasks      | elapsed:   22.1s\n",
      "[Parallel(n_jobs=4)]: Done  42 tasks      | elapsed:   22.1s\n",
      "[Parallel(n_jobs=4)]: Done  43 tasks      | elapsed:   22.4s\n",
      "[Parallel(n_jobs=4)]: Done  44 tasks      | elapsed:   22.5s\n",
      "[Parallel(n_jobs=4)]: Done  45 tasks      | elapsed:   23.0s\n",
      "[Parallel(n_jobs=4)]: Done  46 tasks      | elapsed:   23.1s\n",
      "[Parallel(n_jobs=4)]: Done  47 tasks      | elapsed:   23.4s\n",
      "[Parallel(n_jobs=4)]: Done  48 tasks      | elapsed:   23.5s\n",
      "[Parallel(n_jobs=4)]: Done  49 tasks      | elapsed:   23.8s\n",
      "[Parallel(n_jobs=4)]: Done  50 tasks      | elapsed:   23.8s\n",
      "[Parallel(n_jobs=4)]: Done  51 tasks      | elapsed:   24.2s\n",
      "[Parallel(n_jobs=4)]: Done  52 tasks      | elapsed:   24.2s\n",
      "[Parallel(n_jobs=4)]: Done  53 tasks      | elapsed:   24.5s\n",
      "[Parallel(n_jobs=4)]: Done  54 tasks      | elapsed:   24.6s\n",
      "[Parallel(n_jobs=4)]: Done  55 tasks      | elapsed:   24.9s\n",
      "[Parallel(n_jobs=4)]: Done  56 tasks      | elapsed:   24.9s\n",
      "[Parallel(n_jobs=4)]: Done  57 tasks      | elapsed:   25.3s\n",
      "[Parallel(n_jobs=4)]: Done  58 tasks      | elapsed:   25.3s\n",
      "[Parallel(n_jobs=4)]: Done  59 tasks      | elapsed:   25.6s\n",
      "[Parallel(n_jobs=4)]: Done  60 tasks      | elapsed:   25.7s\n",
      "[Parallel(n_jobs=4)]: Done  61 tasks      | elapsed:   26.1s\n",
      "[Parallel(n_jobs=4)]: Done  62 tasks      | elapsed:   26.1s\n",
      "[Parallel(n_jobs=4)]: Done  63 tasks      | elapsed:   26.4s\n",
      "[Parallel(n_jobs=4)]: Done  64 tasks      | elapsed:   26.4s\n",
      "[Parallel(n_jobs=4)]: Done  65 tasks      | elapsed:   27.1s\n",
      "[Parallel(n_jobs=4)]: Done  66 tasks      | elapsed:   27.2s\n",
      "[Parallel(n_jobs=4)]: Done  67 tasks      | elapsed:   27.5s\n",
      "[Parallel(n_jobs=4)]: Done  68 tasks      | elapsed:   27.5s\n",
      "[Parallel(n_jobs=4)]: Done  69 tasks      | elapsed:   28.2s\n",
      "[Parallel(n_jobs=4)]: Done  70 tasks      | elapsed:   28.2s\n",
      "[Parallel(n_jobs=4)]: Done  71 tasks      | elapsed:   28.5s\n",
      "[Parallel(n_jobs=4)]: Done  72 tasks      | elapsed:   28.5s\n",
      "[Parallel(n_jobs=4)]: Done  73 tasks      | elapsed:   28.8s\n",
      "[Parallel(n_jobs=4)]: Done  74 tasks      | elapsed:   28.8s\n",
      "[Parallel(n_jobs=4)]: Done  75 tasks      | elapsed:   29.1s\n",
      "[Parallel(n_jobs=4)]: Done  76 tasks      | elapsed:   29.1s\n",
      "[Parallel(n_jobs=4)]: Done  77 tasks      | elapsed:   29.4s\n",
      "[Parallel(n_jobs=4)]: Done  78 tasks      | elapsed:   29.5s\n",
      "[Parallel(n_jobs=4)]: Done  79 tasks      | elapsed:   29.7s\n",
      "[Parallel(n_jobs=4)]: Done  80 tasks      | elapsed:   29.7s\n",
      "[Parallel(n_jobs=4)]: Done  81 tasks      | elapsed:   30.1s\n",
      "[Parallel(n_jobs=4)]: Done  82 tasks      | elapsed:   30.2s\n",
      "[Parallel(n_jobs=4)]: Done  83 tasks      | elapsed:   30.4s\n",
      "[Parallel(n_jobs=4)]: Done  84 tasks      | elapsed:   30.5s\n",
      "[Parallel(n_jobs=4)]: Done  85 tasks      | elapsed:   30.8s\n",
      "[Parallel(n_jobs=4)]: Done  86 tasks      | elapsed:   30.8s\n",
      "[Parallel(n_jobs=4)]: Done  87 tasks      | elapsed:   31.1s\n",
      "[Parallel(n_jobs=4)]: Done  88 tasks      | elapsed:   31.1s\n",
      "[Parallel(n_jobs=4)]: Done  89 tasks      | elapsed:   31.8s\n",
      "[Parallel(n_jobs=4)]: Done  90 tasks      | elapsed:   31.8s\n",
      "[Parallel(n_jobs=4)]: Done  91 tasks      | elapsed:   32.1s\n",
      "[Parallel(n_jobs=4)]: Done  92 tasks      | elapsed:   32.1s\n",
      "[Parallel(n_jobs=4)]: Done  93 tasks      | elapsed:   32.7s\n",
      "[Parallel(n_jobs=4)]: Done  94 tasks      | elapsed:   32.7s\n",
      "[Parallel(n_jobs=4)]: Done  95 tasks      | elapsed:   33.0s\n",
      "[Parallel(n_jobs=4)]: Done  96 tasks      | elapsed:   33.0s\n",
      "[Parallel(n_jobs=4)]: Done  97 tasks      | elapsed:   33.4s\n",
      "[Parallel(n_jobs=4)]: Done  98 tasks      | elapsed:   33.4s\n",
      "[Parallel(n_jobs=4)]: Done  99 tasks      | elapsed:   33.8s\n",
      "[Parallel(n_jobs=4)]: Done 100 tasks      | elapsed:   33.8s\n",
      "[Parallel(n_jobs=4)]: Done 101 tasks      | elapsed:   34.1s\n",
      "[Parallel(n_jobs=4)]: Done 102 tasks      | elapsed:   34.2s\n",
      "[Parallel(n_jobs=4)]: Done 103 tasks      | elapsed:   34.5s\n",
      "[Parallel(n_jobs=4)]: Done 104 tasks      | elapsed:   34.5s\n",
      "[Parallel(n_jobs=4)]: Done 105 tasks      | elapsed:   34.9s\n",
      "[Parallel(n_jobs=4)]: Done 106 tasks      | elapsed:   34.9s\n",
      "[Parallel(n_jobs=4)]: Done 107 tasks      | elapsed:   35.3s\n",
      "[Parallel(n_jobs=4)]: Done 108 tasks      | elapsed:   35.3s\n",
      "[Parallel(n_jobs=4)]: Done 109 tasks      | elapsed:   35.7s\n",
      "[Parallel(n_jobs=4)]: Done 110 tasks      | elapsed:   35.7s\n",
      "[Parallel(n_jobs=4)]: Done 111 tasks      | elapsed:   36.0s\n",
      "[Parallel(n_jobs=4)]: Done 112 tasks      | elapsed:   36.1s\n",
      "[Parallel(n_jobs=4)]: Done 113 tasks      | elapsed:   36.7s\n",
      "[Parallel(n_jobs=4)]: Done 114 tasks      | elapsed:   36.8s\n",
      "[Parallel(n_jobs=4)]: Done 115 tasks      | elapsed:   37.0s\n",
      "[Parallel(n_jobs=4)]: Done 116 tasks      | elapsed:   37.1s\n",
      "[Parallel(n_jobs=4)]: Done 117 tasks      | elapsed:   37.7s\n",
      "[Parallel(n_jobs=4)]: Done 118 tasks      | elapsed:   37.7s\n",
      "[Parallel(n_jobs=4)]: Done 119 tasks      | elapsed:   38.1s\n",
      "[Parallel(n_jobs=4)]: Done 120 tasks      | elapsed:   38.1s\n",
      "[Parallel(n_jobs=4)]: Done 121 tasks      | elapsed:   38.4s\n",
      "[Parallel(n_jobs=4)]: Done 122 tasks      | elapsed:   38.5s\n",
      "[Parallel(n_jobs=4)]: Done 123 tasks      | elapsed:   38.8s\n",
      "[Parallel(n_jobs=4)]: Done 124 tasks      | elapsed:   38.9s\n",
      "[Parallel(n_jobs=4)]: Done 125 tasks      | elapsed:   39.2s\n",
      "[Parallel(n_jobs=4)]: Done 126 tasks      | elapsed:   39.2s\n",
      "[Parallel(n_jobs=4)]: Done 127 tasks      | elapsed:   39.5s\n",
      "[Parallel(n_jobs=4)]: Done 128 tasks      | elapsed:   39.6s\n",
      "[Parallel(n_jobs=4)]: Done 129 tasks      | elapsed:   39.9s\n",
      "[Parallel(n_jobs=4)]: Done 130 tasks      | elapsed:   40.0s\n",
      "[Parallel(n_jobs=4)]: Done 131 tasks      | elapsed:   40.3s\n",
      "[Parallel(n_jobs=4)]: Done 132 tasks      | elapsed:   40.3s\n",
      "[Parallel(n_jobs=4)]: Done 133 tasks      | elapsed:   40.7s\n",
      "[Parallel(n_jobs=4)]: Done 134 tasks      | elapsed:   40.7s\n",
      "[Parallel(n_jobs=4)]: Done 135 tasks      | elapsed:   41.0s\n",
      "[Parallel(n_jobs=4)]: Done 136 tasks      | elapsed:   41.0s\n"
     ]
    },
    {
     "name": "stderr",
     "output_type": "stream",
     "text": [
      "[Parallel(n_jobs=4)]: Done 137 tasks      | elapsed:   41.7s\n",
      "[Parallel(n_jobs=4)]: Done 141 out of 144 | elapsed:   42.7s remaining:    0.8s\n",
      "[Parallel(n_jobs=4)]: Done 144 out of 144 | elapsed:   43.0s finished\n"
     ]
    }
   ],
   "source": [
    "gs_2 = GridSearchCV(pipeline1, \n",
    "                    param_grid=parameters,\n",
    "                    n_jobs=4, \n",
    "                    scoring='recall',\n",
    "                    verbose=40,cv=2).fit(train_features_balanced,train_labels_balanced)"
   ]
  },
  {
   "cell_type": "code",
   "execution_count": 24,
   "metadata": {},
   "outputs": [],
   "source": [
    "predicted_labels_2=gs_2.predict(test_features)"
   ]
  },
  {
   "cell_type": "code",
   "execution_count": 25,
   "metadata": {},
   "outputs": [
    {
     "name": "stdout",
     "output_type": "stream",
     "text": [
      "              +-----------------+\n",
      "              |   Predicción    |\n",
      "              +-----------------+\n",
      "              |    +   |    -   |\n",
      "+-------+-----+--------+--------+\n",
      "| Valor |  +  |    370 |      5 |\n",
      "| real  +-----+--------+--------+\n",
      "|       |  -  |    871 |  14754 |\n",
      "+-------+-----+--------+--------+\n",
      "Costo total para Random forest y PCA es 11210\n"
     ]
    }
   ],
   "source": [
    "cm_rf_2 =confusion_matrix(test_labels, predicted_labels)\n",
    "print_binary_confusion_matrix (cm_rf_2)\n",
    "\n",
    "print('Costo total para Random forest y PCA es',costo_total(cm_rf_2))"
   ]
  },
  {
   "cell_type": "code",
   "execution_count": 26,
   "metadata": {},
   "outputs": [
    {
     "name": "stdout",
     "output_type": "stream",
     "text": [
      "Fitting 2 folds for each of 72 candidates, totalling 144 fits\n"
     ]
    },
    {
     "name": "stderr",
     "output_type": "stream",
     "text": [
      "[Parallel(n_jobs=4)]: Done   1 tasks      | elapsed:    6.0s\n",
      "[Parallel(n_jobs=4)]: Done   2 tasks      | elapsed:    9.1s\n",
      "[Parallel(n_jobs=4)]: Done   3 tasks      | elapsed:   12.0s\n",
      "[Parallel(n_jobs=4)]: Done   4 tasks      | elapsed:   14.9s\n",
      "[Parallel(n_jobs=4)]: Done   5 tasks      | elapsed:   14.9s\n",
      "[Parallel(n_jobs=4)]: Done   6 tasks      | elapsed:   14.9s\n",
      "[Parallel(n_jobs=4)]: Done   7 tasks      | elapsed:   14.9s\n",
      "[Parallel(n_jobs=4)]: Done   8 tasks      | elapsed:   15.5s\n",
      "[Parallel(n_jobs=4)]: Done   9 tasks      | elapsed:   15.5s\n",
      "[Parallel(n_jobs=4)]: Done  10 tasks      | elapsed:   15.6s\n",
      "[Parallel(n_jobs=4)]: Done  11 tasks      | elapsed:   15.6s\n",
      "[Parallel(n_jobs=4)]: Done  12 tasks      | elapsed:   16.1s\n",
      "[Parallel(n_jobs=4)]: Done  13 tasks      | elapsed:   16.2s\n",
      "[Parallel(n_jobs=4)]: Done  14 tasks      | elapsed:   16.2s\n",
      "[Parallel(n_jobs=4)]: Done  15 tasks      | elapsed:   16.3s\n",
      "[Parallel(n_jobs=4)]: Done  16 tasks      | elapsed:   16.7s\n",
      "[Parallel(n_jobs=4)]: Done  17 tasks      | elapsed:   17.1s\n",
      "[Parallel(n_jobs=4)]: Done  18 tasks      | elapsed:   17.1s\n",
      "[Parallel(n_jobs=4)]: Done  19 tasks      | elapsed:   17.2s\n",
      "[Parallel(n_jobs=4)]: Done  20 tasks      | elapsed:   17.7s\n",
      "[Parallel(n_jobs=4)]: Done  21 tasks      | elapsed:   18.0s\n",
      "[Parallel(n_jobs=4)]: Done  22 tasks      | elapsed:   18.1s\n",
      "[Parallel(n_jobs=4)]: Done  23 tasks      | elapsed:   18.2s\n",
      "[Parallel(n_jobs=4)]: Done  24 tasks      | elapsed:   18.6s\n",
      "[Parallel(n_jobs=4)]: Done  25 tasks      | elapsed:   18.7s\n",
      "[Parallel(n_jobs=4)]: Done  26 tasks      | elapsed:   18.7s\n",
      "[Parallel(n_jobs=4)]: Done  27 tasks      | elapsed:   18.9s\n",
      "[Parallel(n_jobs=4)]: Done  28 tasks      | elapsed:   19.2s\n",
      "[Parallel(n_jobs=4)]: Done  29 tasks      | elapsed:   19.4s\n",
      "[Parallel(n_jobs=4)]: Done  30 tasks      | elapsed:   19.4s\n",
      "[Parallel(n_jobs=4)]: Done  31 tasks      | elapsed:   19.6s\n",
      "[Parallel(n_jobs=4)]: Done  32 tasks      | elapsed:   19.9s\n",
      "[Parallel(n_jobs=4)]: Done  33 tasks      | elapsed:   20.1s\n",
      "[Parallel(n_jobs=4)]: Done  34 tasks      | elapsed:   20.2s\n",
      "[Parallel(n_jobs=4)]: Done  35 tasks      | elapsed:   20.4s\n",
      "[Parallel(n_jobs=4)]: Done  36 tasks      | elapsed:   20.7s\n",
      "[Parallel(n_jobs=4)]: Done  37 tasks      | elapsed:   20.9s\n",
      "[Parallel(n_jobs=4)]: Done  38 tasks      | elapsed:   21.0s\n",
      "[Parallel(n_jobs=4)]: Done  39 tasks      | elapsed:   21.2s\n",
      "[Parallel(n_jobs=4)]: Done  40 tasks      | elapsed:   21.5s\n",
      "[Parallel(n_jobs=4)]: Done  41 tasks      | elapsed:   22.1s\n",
      "[Parallel(n_jobs=4)]: Done  42 tasks      | elapsed:   22.1s\n",
      "[Parallel(n_jobs=4)]: Done  43 tasks      | elapsed:   22.4s\n",
      "[Parallel(n_jobs=4)]: Done  44 tasks      | elapsed:   22.5s\n",
      "[Parallel(n_jobs=4)]: Done  45 tasks      | elapsed:   23.1s\n",
      "[Parallel(n_jobs=4)]: Done  46 tasks      | elapsed:   23.2s\n",
      "[Parallel(n_jobs=4)]: Done  47 tasks      | elapsed:   23.4s\n",
      "[Parallel(n_jobs=4)]: Done  48 tasks      | elapsed:   23.5s\n",
      "[Parallel(n_jobs=4)]: Done  49 tasks      | elapsed:   23.9s\n",
      "[Parallel(n_jobs=4)]: Done  50 tasks      | elapsed:   23.9s\n",
      "[Parallel(n_jobs=4)]: Done  51 tasks      | elapsed:   24.2s\n",
      "[Parallel(n_jobs=4)]: Done  52 tasks      | elapsed:   24.2s\n",
      "[Parallel(n_jobs=4)]: Done  53 tasks      | elapsed:   24.6s\n",
      "[Parallel(n_jobs=4)]: Done  54 tasks      | elapsed:   24.6s\n",
      "[Parallel(n_jobs=4)]: Done  55 tasks      | elapsed:   24.9s\n",
      "[Parallel(n_jobs=4)]: Done  56 tasks      | elapsed:   24.9s\n",
      "[Parallel(n_jobs=4)]: Done  57 tasks      | elapsed:   25.3s\n",
      "[Parallel(n_jobs=4)]: Done  58 tasks      | elapsed:   25.3s\n",
      "[Parallel(n_jobs=4)]: Done  59 tasks      | elapsed:   25.6s\n",
      "[Parallel(n_jobs=4)]: Done  60 tasks      | elapsed:   25.6s\n",
      "[Parallel(n_jobs=4)]: Done  61 tasks      | elapsed:   26.1s\n",
      "[Parallel(n_jobs=4)]: Done  62 tasks      | elapsed:   26.1s\n",
      "[Parallel(n_jobs=4)]: Done  63 tasks      | elapsed:   26.3s\n",
      "[Parallel(n_jobs=4)]: Done  64 tasks      | elapsed:   26.4s\n",
      "[Parallel(n_jobs=4)]: Done  65 tasks      | elapsed:   27.1s\n",
      "[Parallel(n_jobs=4)]: Done  66 tasks      | elapsed:   27.1s\n",
      "[Parallel(n_jobs=4)]: Done  67 tasks      | elapsed:   27.4s\n",
      "[Parallel(n_jobs=4)]: Done  68 tasks      | elapsed:   27.4s\n",
      "[Parallel(n_jobs=4)]: Done  69 tasks      | elapsed:   28.1s\n",
      "[Parallel(n_jobs=4)]: Done  70 tasks      | elapsed:   28.1s\n",
      "[Parallel(n_jobs=4)]: Done  71 tasks      | elapsed:   28.4s\n",
      "[Parallel(n_jobs=4)]: Done  72 tasks      | elapsed:   28.4s\n",
      "[Parallel(n_jobs=4)]: Done  73 tasks      | elapsed:   28.7s\n",
      "[Parallel(n_jobs=4)]: Done  74 tasks      | elapsed:   28.7s\n",
      "[Parallel(n_jobs=4)]: Done  75 tasks      | elapsed:   29.0s\n",
      "[Parallel(n_jobs=4)]: Done  76 tasks      | elapsed:   29.0s\n",
      "[Parallel(n_jobs=4)]: Done  77 tasks      | elapsed:   29.4s\n",
      "[Parallel(n_jobs=4)]: Done  78 tasks      | elapsed:   29.4s\n",
      "[Parallel(n_jobs=4)]: Done  79 tasks      | elapsed:   29.6s\n",
      "[Parallel(n_jobs=4)]: Done  80 tasks      | elapsed:   29.7s\n",
      "[Parallel(n_jobs=4)]: Done  81 tasks      | elapsed:   30.0s\n",
      "[Parallel(n_jobs=4)]: Done  82 tasks      | elapsed:   30.0s\n",
      "[Parallel(n_jobs=4)]: Done  83 tasks      | elapsed:   30.3s\n",
      "[Parallel(n_jobs=4)]: Done  84 tasks      | elapsed:   30.3s\n",
      "[Parallel(n_jobs=4)]: Done  85 tasks      | elapsed:   30.7s\n",
      "[Parallel(n_jobs=4)]: Done  86 tasks      | elapsed:   30.7s\n",
      "[Parallel(n_jobs=4)]: Done  87 tasks      | elapsed:   30.9s\n",
      "[Parallel(n_jobs=4)]: Done  88 tasks      | elapsed:   31.0s\n",
      "[Parallel(n_jobs=4)]: Done  89 tasks      | elapsed:   31.5s\n",
      "[Parallel(n_jobs=4)]: Done  90 tasks      | elapsed:   31.6s\n",
      "[Parallel(n_jobs=4)]: Done  91 tasks      | elapsed:   31.8s\n",
      "[Parallel(n_jobs=4)]: Done  92 tasks      | elapsed:   31.9s\n",
      "[Parallel(n_jobs=4)]: Done  93 tasks      | elapsed:   32.4s\n",
      "[Parallel(n_jobs=4)]: Done  94 tasks      | elapsed:   32.5s\n",
      "[Parallel(n_jobs=4)]: Done  95 tasks      | elapsed:   32.7s\n",
      "[Parallel(n_jobs=4)]: Done  96 tasks      | elapsed:   32.8s\n",
      "[Parallel(n_jobs=4)]: Done  97 tasks      | elapsed:   33.1s\n",
      "[Parallel(n_jobs=4)]: Done  98 tasks      | elapsed:   33.1s\n",
      "[Parallel(n_jobs=4)]: Done  99 tasks      | elapsed:   33.4s\n",
      "[Parallel(n_jobs=4)]: Done 100 tasks      | elapsed:   33.4s\n",
      "[Parallel(n_jobs=4)]: Done 101 tasks      | elapsed:   33.8s\n",
      "[Parallel(n_jobs=4)]: Done 102 tasks      | elapsed:   33.8s\n",
      "[Parallel(n_jobs=4)]: Done 103 tasks      | elapsed:   34.1s\n",
      "[Parallel(n_jobs=4)]: Done 104 tasks      | elapsed:   34.1s\n",
      "[Parallel(n_jobs=4)]: Done 105 tasks      | elapsed:   34.5s\n",
      "[Parallel(n_jobs=4)]: Done 106 tasks      | elapsed:   34.5s\n",
      "[Parallel(n_jobs=4)]: Done 107 tasks      | elapsed:   34.8s\n",
      "[Parallel(n_jobs=4)]: Done 108 tasks      | elapsed:   34.8s\n",
      "[Parallel(n_jobs=4)]: Done 109 tasks      | elapsed:   35.2s\n",
      "[Parallel(n_jobs=4)]: Done 110 tasks      | elapsed:   35.2s\n",
      "[Parallel(n_jobs=4)]: Done 111 tasks      | elapsed:   35.5s\n",
      "[Parallel(n_jobs=4)]: Done 112 tasks      | elapsed:   35.5s\n",
      "[Parallel(n_jobs=4)]: Done 113 tasks      | elapsed:   36.2s\n",
      "[Parallel(n_jobs=4)]: Done 114 tasks      | elapsed:   36.2s\n",
      "[Parallel(n_jobs=4)]: Done 115 tasks      | elapsed:   36.5s\n",
      "[Parallel(n_jobs=4)]: Done 116 tasks      | elapsed:   36.6s\n",
      "[Parallel(n_jobs=4)]: Done 117 tasks      | elapsed:   37.3s\n",
      "[Parallel(n_jobs=4)]: Done 118 tasks      | elapsed:   37.3s\n",
      "[Parallel(n_jobs=4)]: Done 119 tasks      | elapsed:   37.6s\n",
      "[Parallel(n_jobs=4)]: Done 120 tasks      | elapsed:   37.6s\n",
      "[Parallel(n_jobs=4)]: Done 121 tasks      | elapsed:   38.1s\n",
      "[Parallel(n_jobs=4)]: Done 122 tasks      | elapsed:   38.1s\n",
      "[Parallel(n_jobs=4)]: Done 123 tasks      | elapsed:   38.4s\n",
      "[Parallel(n_jobs=4)]: Done 124 tasks      | elapsed:   38.4s\n",
      "[Parallel(n_jobs=4)]: Done 125 tasks      | elapsed:   38.8s\n",
      "[Parallel(n_jobs=4)]: Done 126 tasks      | elapsed:   38.9s\n",
      "[Parallel(n_jobs=4)]: Done 127 tasks      | elapsed:   39.1s\n",
      "[Parallel(n_jobs=4)]: Done 128 tasks      | elapsed:   39.2s\n",
      "[Parallel(n_jobs=4)]: Done 129 tasks      | elapsed:   39.6s\n",
      "[Parallel(n_jobs=4)]: Done 130 tasks      | elapsed:   39.7s\n",
      "[Parallel(n_jobs=4)]: Done 131 tasks      | elapsed:   39.9s\n",
      "[Parallel(n_jobs=4)]: Done 132 tasks      | elapsed:   40.0s\n",
      "[Parallel(n_jobs=4)]: Done 133 tasks      | elapsed:   40.4s\n",
      "[Parallel(n_jobs=4)]: Done 134 tasks      | elapsed:   40.4s\n",
      "[Parallel(n_jobs=4)]: Done 135 tasks      | elapsed:   40.6s\n",
      "[Parallel(n_jobs=4)]: Done 136 tasks      | elapsed:   40.6s\n"
     ]
    },
    {
     "name": "stderr",
     "output_type": "stream",
     "text": [
      "[Parallel(n_jobs=4)]: Done 137 tasks      | elapsed:   41.3s\n",
      "[Parallel(n_jobs=4)]: Done 141 out of 144 | elapsed:   42.4s remaining:    0.8s\n",
      "[Parallel(n_jobs=4)]: Done 144 out of 144 | elapsed:   42.6s finished\n"
     ]
    }
   ],
   "source": [
    "gs_3 = GridSearchCV(pipeline1, \n",
    "                    param_grid=parameters,\n",
    "                    n_jobs=4, \n",
    "                    verbose=40,cv=2).fit(train_features_balanced,train_labels_balanced)"
   ]
  },
  {
   "cell_type": "code",
   "execution_count": 27,
   "metadata": {},
   "outputs": [],
   "source": [
    "predicted_labels_3=gs_3.predict(test_features)"
   ]
  },
  {
   "cell_type": "code",
   "execution_count": 28,
   "metadata": {},
   "outputs": [
    {
     "name": "stdout",
     "output_type": "stream",
     "text": [
      "              +-----------------+\n",
      "              |   Predicción    |\n",
      "              +-----------------+\n",
      "              |    +   |    -   |\n",
      "+-------+-----+--------+--------+\n",
      "| Valor |  +  |    370 |      5 |\n",
      "| real  +-----+--------+--------+\n",
      "|       |  -  |    871 |  14754 |\n",
      "+-------+-----+--------+--------+\n",
      "Costo total para Random forest y PCA es 11210\n"
     ]
    }
   ],
   "source": [
    "cm_rf_3 =confusion_matrix(test_labels, predicted_labels)\n",
    "print_binary_confusion_matrix (cm_rf_3)\n",
    "\n",
    "print('Costo total para Random forest y PCA es',costo_total(cm_rf_3))"
   ]
  },
  {
   "cell_type": "code",
   "execution_count": null,
   "metadata": {},
   "outputs": [],
   "source": []
  },
  {
   "cell_type": "code",
   "execution_count": null,
   "metadata": {},
   "outputs": [],
   "source": []
  },
  {
   "cell_type": "code",
   "execution_count": null,
   "metadata": {},
   "outputs": [],
   "source": []
  },
  {
   "cell_type": "code",
   "execution_count": null,
   "metadata": {},
   "outputs": [],
   "source": []
  },
  {
   "cell_type": "code",
   "execution_count": null,
   "metadata": {},
   "outputs": [],
   "source": []
  },
  {
   "cell_type": "code",
   "execution_count": null,
   "metadata": {},
   "outputs": [],
   "source": []
  }
 ],
 "metadata": {
  "kernelspec": {
   "display_name": "Python 3",
   "language": "python",
   "name": "python3"
  },
  "language_info": {
   "codemirror_mode": {
    "name": "ipython",
    "version": 3
   },
   "file_extension": ".py",
   "mimetype": "text/x-python",
   "name": "python",
   "nbconvert_exporter": "python",
   "pygments_lexer": "ipython3",
   "version": "3.6.4"
  }
 },
 "nbformat": 4,
 "nbformat_minor": 2
}
